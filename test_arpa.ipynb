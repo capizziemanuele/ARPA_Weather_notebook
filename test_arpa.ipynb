{
 "cells": [
  {
   "attachments": {
    "4bce9d53-93b0-462d-9403-47bc99e1bc35.png": {
     "image/png": "[encoded data removed]"
    }
   },
   "cell_type": "markdown",
   "metadata": {
    "id": "ieKff42Du_uf"
   },
   "source": [
    "# ARPA Weather Station Data\n",
    "This notebook is used for:\n",
    "1) testing ARPA API functionalities\n",
    "2) testing functions to be implemented in the plugin\n",
    "3) testing libraries to be used and evaluate performances\n",
    "\n",
    "First, it is necessary to get a token.\n",
    "Go to Open Data Lombardia website (https://dati.lombardia.it/). Subscribe to the website and go to your profile settings. <br>\n",
    "![image.png](attachment:4bce9d53-93b0-462d-9403-47bc99e1bc35.png) <br>\n",
    "Modify your profile and open the \"Opzioni per lo sviluppatore\" tab. Create a new App Token to be used.\n",
    "\n",
    "\n",
    "Useful notebook for Sodapy: https://github.com/xmunoz/sodapy/blob/master/examples/soql_queries.py"
   ]
  },
  {
   "cell_type": "markdown",
   "metadata": {},
   "source": [
    "## Import libraries"
   ]
  },
  {
   "cell_type": "code",
   "execution_count": 1,
   "metadata": {
    "id": "vIYOzSgg1Sji"
   },
   "outputs": [],
   "source": [
    "import warnings\n",
    "warnings.filterwarnings(\"ignore\")\n",
    "\n",
    "from sodapy import Socrata\n",
    "import pandas as pd\n",
    "from datetime import datetime, timedelta\n",
    "import requests\n",
    "from io import BytesIO\n",
    "from zipfile import ZipFile\n",
    "import os\n",
    "import time\n",
    "import dask.dataframe as dd"
   ]
  },
  {
   "cell_type": "markdown",
   "metadata": {},
   "source": [
    "## Client"
   ]
  },
  {
   "cell_type": "code",
   "execution_count": 2,
   "metadata": {
    "colab": {
     "base_uri": "https://localhost:8080/",
     "height": 223
    },
    "executionInfo": {
     "elapsed": 266,
     "status": "error",
     "timestamp": 1673873146302,
     "user": {
      "displayName": "geolab como",
      "userId": "12419660887110986186"
     },
     "user_tz": -60
    },
    "id": "CWWE66sl02vk",
    "outputId": "51b5575c-1d89-4077-ae00-e0b277c0cb72"
   },
   "outputs": [
    {
     "name": "stdout",
     "output_type": "stream",
     "text": [
      "riTLzYVRVdDaQtUkxDDaHRgJi\n"
     ]
    }
   ],
   "source": [
    "arpa_token = \"riTLzYVRVdDaQtUkxDDaHRgJi\" \n",
    "print(arpa_token)"
   ]
  },
  {
   "cell_type": "markdown",
   "metadata": {},
   "source": [
    "Pandas va installato anche se si installa prima Dask"
   ]
  },
  {
   "cell_type": "markdown",
   "metadata": {},
   "source": [
    "Function to create a client session with the API using the token:"
   ]
  },
  {
   "cell_type": "code",
   "execution_count": 3,
   "metadata": {
    "id": "A-QQ02TQ1r2h"
   },
   "outputs": [],
   "source": [
    "def connect_ARPA_api(token):\n",
    "    \"\"\"\n",
    "    Function to connect to ARPA API.\n",
    "\n",
    "        Parameters:\n",
    "            - token (str): the ARPA token obtained from Open Data Lombardia website\n",
    "\n",
    "        Returns:\n",
    "            - client: client session\n",
    "            \n",
    "    \"\"\"\n",
    "    client = Socrata(\"www.dati.lombardia.it\", app_token=token)\n",
    "\n",
    "    return client"
   ]
  },
  {
   "cell_type": "markdown",
   "metadata": {},
   "source": [
    "Import the code of the dataset. In this case \"nf78-nj6b\" is related to ARPA stations information containing:\n",
    "1) sensors id\n",
    "2) sensor type\n",
    "3) unit\n",
    "4) stations id\n",
    "5) stations names\n",
    "..."
   ]
  },
  {
   "cell_type": "markdown",
   "metadata": {},
   "source": [
    "## Stations and sensors information"
   ]
  },
  {
   "cell_type": "code",
   "execution_count": 4,
   "metadata": {
    "id": "7UMOzRow2thG"
   },
   "outputs": [],
   "source": [
    "stationsId = \"nf78-nj6b\" # Select meteo stations dataset containing positions and information about sensors\n",
    "client = connect_ARPA_api(arpa_token)\n",
    "sensors_info = client.get_all(stationsId)"
   ]
  },
  {
   "cell_type": "markdown",
   "metadata": {},
   "source": [
    "Create sensors dataframe:"
   ]
  },
  {
   "cell_type": "code",
   "execution_count": 5,
   "metadata": {
    "colab": {
     "base_uri": "https://localhost:8080/",
     "height": 835
    },
    "executionInfo": {
     "elapsed": 1484,
     "status": "ok",
     "timestamp": 1673610188336,
     "user": {
      "displayName": "Emanuele Capizzi",
      "userId": "03450198425113630983"
     },
     "user_tz": -60
    },
    "id": "A5DpwCHi3s0a",
    "outputId": "6dac4598-a380-4087-faec-8be1459f5337"
   },
   "outputs": [],
   "source": [
    "def ARPA_sensors_info(sensors_info):\n",
    "    \n",
    "    sensors_df = pd.DataFrame(sensors_info)\n",
    "    sensors_df['idsensore']=sensors_df['idsensore'].astype(int)\n",
    "    sensors_df['idstazione']=sensors_df['idstazione'].astype(int)\n",
    "    sensors_df['datastart']=pd.to_datetime(sensors_df['datastart'])\n",
    "    sensors_df['datastop']=pd.to_datetime(sensors_df['datastop'])\n",
    "    \n",
    "    \n",
    "    \n",
    "    return sensors_df"
   ]
  },
  {
   "cell_type": "code",
   "execution_count": 6,
   "metadata": {},
   "outputs": [],
   "source": [
    "sensors_df = ARPA_sensors_info(sensors_info)"
   ]
  },
  {
   "cell_type": "code",
   "execution_count": 7,
   "metadata": {},
   "outputs": [
    {
     "data": {
      "text/html": [
       "<div>\n",
       "<style scoped>\n",
       "    .dataframe tbody tr th:only-of-type {\n",
       "        vertical-align: middle;\n",
       "    }\n",
       "\n",
       "    .dataframe tbody tr th {\n",
       "        vertical-align: top;\n",
       "    }\n",
       "\n",
       "    .dataframe thead th {\n",
       "        text-align: right;\n",
       "    }\n",
       "</style>\n",
       "<table border=\"1\" class=\"dataframe\">\n",
       "  <thead>\n",
       "    <tr style=\"text-align: right;\">\n",
       "      <th></th>\n",
       "      <th>idsensore</th>\n",
       "      <th>tipologia</th>\n",
       "      <th>unit_dimisura</th>\n",
       "      <th>idstazione</th>\n",
       "      <th>nomestazione</th>\n",
       "      <th>quota</th>\n",
       "      <th>provincia</th>\n",
       "      <th>datastart</th>\n",
       "      <th>storico</th>\n",
       "      <th>cgb_nord</th>\n",
       "      <th>cgb_est</th>\n",
       "      <th>lng</th>\n",
       "      <th>lat</th>\n",
       "      <th>location</th>\n",
       "      <th>:@computed_region_6hky_swhk</th>\n",
       "      <th>:@computed_region_ttgh_9sm5</th>\n",
       "      <th>datastop</th>\n",
       "    </tr>\n",
       "  </thead>\n",
       "  <tbody>\n",
       "    <tr>\n",
       "      <th>0</th>\n",
       "      <td>10373</td>\n",
       "      <td>Precipitazione</td>\n",
       "      <td>mm</td>\n",
       "      <td>687</td>\n",
       "      <td>Ferno v.Di Dio</td>\n",
       "      <td>215</td>\n",
       "      <td>VA</td>\n",
       "      <td>2007-08-13</td>\n",
       "      <td>N</td>\n",
       "      <td>5051773</td>\n",
       "      <td>481053</td>\n",
       "      <td>8.756970445453431</td>\n",
       "      <td>45.61924377994763</td>\n",
       "      <td>{'latitude': '45.61924377994763', 'longitude':...</td>\n",
       "      <td>1</td>\n",
       "      <td>1</td>\n",
       "      <td>NaT</td>\n",
       "    </tr>\n",
       "    <tr>\n",
       "      <th>1</th>\n",
       "      <td>10376</td>\n",
       "      <td>Precipitazione</td>\n",
       "      <td>mm</td>\n",
       "      <td>706</td>\n",
       "      <td>Lecco v.Sora</td>\n",
       "      <td>272</td>\n",
       "      <td>LC</td>\n",
       "      <td>2008-07-22</td>\n",
       "      <td>N</td>\n",
       "      <td>5078987</td>\n",
       "      <td>531045</td>\n",
       "      <td>9.399950344681852</td>\n",
       "      <td>45.86374884127965</td>\n",
       "      <td>{'latitude': '45.86374884127965', 'longitude':...</td>\n",
       "      <td>10</td>\n",
       "      <td>10</td>\n",
       "      <td>NaT</td>\n",
       "    </tr>\n",
       "    <tr>\n",
       "      <th>2</th>\n",
       "      <td>10377</td>\n",
       "      <td>Temperatura</td>\n",
       "      <td>°C</td>\n",
       "      <td>706</td>\n",
       "      <td>Lecco v.Sora</td>\n",
       "      <td>272</td>\n",
       "      <td>LC</td>\n",
       "      <td>2008-07-22</td>\n",
       "      <td>N</td>\n",
       "      <td>5078987</td>\n",
       "      <td>531045</td>\n",
       "      <td>9.399950344681852</td>\n",
       "      <td>45.86374884127965</td>\n",
       "      <td>{'latitude': '45.86374884127965', 'longitude':...</td>\n",
       "      <td>10</td>\n",
       "      <td>10</td>\n",
       "      <td>NaT</td>\n",
       "    </tr>\n",
       "    <tr>\n",
       "      <th>3</th>\n",
       "      <td>10381</td>\n",
       "      <td>Umidità Relativa</td>\n",
       "      <td>%</td>\n",
       "      <td>706</td>\n",
       "      <td>Lecco v.Sora</td>\n",
       "      <td>272</td>\n",
       "      <td>LC</td>\n",
       "      <td>2008-07-22</td>\n",
       "      <td>N</td>\n",
       "      <td>5078987</td>\n",
       "      <td>531045</td>\n",
       "      <td>9.399950344681852</td>\n",
       "      <td>45.86374884127965</td>\n",
       "      <td>{'latitude': '45.86374884127965', 'longitude':...</td>\n",
       "      <td>10</td>\n",
       "      <td>10</td>\n",
       "      <td>NaT</td>\n",
       "    </tr>\n",
       "    <tr>\n",
       "      <th>4</th>\n",
       "      <td>10382</td>\n",
       "      <td>Radiazione Globale</td>\n",
       "      <td>W/m²</td>\n",
       "      <td>706</td>\n",
       "      <td>Lecco v.Sora</td>\n",
       "      <td>272</td>\n",
       "      <td>LC</td>\n",
       "      <td>2008-07-31</td>\n",
       "      <td>N</td>\n",
       "      <td>5078987</td>\n",
       "      <td>531045</td>\n",
       "      <td>9.399950344681852</td>\n",
       "      <td>45.86374884127965</td>\n",
       "      <td>{'latitude': '45.86374884127965', 'longitude':...</td>\n",
       "      <td>10</td>\n",
       "      <td>10</td>\n",
       "      <td>NaT</td>\n",
       "    </tr>\n",
       "    <tr>\n",
       "      <th>...</th>\n",
       "      <td>...</td>\n",
       "      <td>...</td>\n",
       "      <td>...</td>\n",
       "      <td>...</td>\n",
       "      <td>...</td>\n",
       "      <td>...</td>\n",
       "      <td>...</td>\n",
       "      <td>...</td>\n",
       "      <td>...</td>\n",
       "      <td>...</td>\n",
       "      <td>...</td>\n",
       "      <td>...</td>\n",
       "      <td>...</td>\n",
       "      <td>...</td>\n",
       "      <td>...</td>\n",
       "      <td>...</td>\n",
       "      <td>...</td>\n",
       "    </tr>\n",
       "    <tr>\n",
       "      <th>1227</th>\n",
       "      <td>9869</td>\n",
       "      <td>Umidità Relativa</td>\n",
       "      <td>%</td>\n",
       "      <td>672</td>\n",
       "      <td>Cornale v.Libertà</td>\n",
       "      <td>74</td>\n",
       "      <td>PV</td>\n",
       "      <td>2005-07-28</td>\n",
       "      <td>N</td>\n",
       "      <td>4987406</td>\n",
       "      <td>493238</td>\n",
       "      <td>8.914144599002409</td>\n",
       "      <td>45.04007657202963</td>\n",
       "      <td>{'latitude': '45.04007657202963', 'longitude':...</td>\n",
       "      <td>7</td>\n",
       "      <td>7</td>\n",
       "      <td>NaT</td>\n",
       "    </tr>\n",
       "    <tr>\n",
       "      <th>1228</th>\n",
       "      <td>9933</td>\n",
       "      <td>Precipitazione</td>\n",
       "      <td>mm</td>\n",
       "      <td>677</td>\n",
       "      <td>Cremona Via Fatebenefratelli</td>\n",
       "      <td>43</td>\n",
       "      <td>CR</td>\n",
       "      <td>2006-04-10</td>\n",
       "      <td>N</td>\n",
       "      <td>4999315</td>\n",
       "      <td>582066</td>\n",
       "      <td>10.043836158369393</td>\n",
       "      <td>45.14254063221695</td>\n",
       "      <td>{'latitude': '45.14254063221695', 'longitude':...</td>\n",
       "      <td>8</td>\n",
       "      <td>8</td>\n",
       "      <td>NaT</td>\n",
       "    </tr>\n",
       "    <tr>\n",
       "      <th>1229</th>\n",
       "      <td>9935</td>\n",
       "      <td>Radiazione Globale</td>\n",
       "      <td>W/m²</td>\n",
       "      <td>677</td>\n",
       "      <td>Cremona Via Fatebenefratelli</td>\n",
       "      <td>43</td>\n",
       "      <td>CR</td>\n",
       "      <td>2006-04-10</td>\n",
       "      <td>N</td>\n",
       "      <td>4999315</td>\n",
       "      <td>582066</td>\n",
       "      <td>10.043836158369393</td>\n",
       "      <td>45.14254063221695</td>\n",
       "      <td>{'latitude': '45.14254063221695', 'longitude':...</td>\n",
       "      <td>8</td>\n",
       "      <td>8</td>\n",
       "      <td>NaT</td>\n",
       "    </tr>\n",
       "    <tr>\n",
       "      <th>1230</th>\n",
       "      <td>9938</td>\n",
       "      <td>Temperatura</td>\n",
       "      <td>°C</td>\n",
       "      <td>677</td>\n",
       "      <td>Cremona Via Fatebenefratelli</td>\n",
       "      <td>43</td>\n",
       "      <td>CR</td>\n",
       "      <td>2006-04-10</td>\n",
       "      <td>N</td>\n",
       "      <td>4999315</td>\n",
       "      <td>582066</td>\n",
       "      <td>10.043836158369393</td>\n",
       "      <td>45.14254063221695</td>\n",
       "      <td>{'latitude': '45.14254063221695', 'longitude':...</td>\n",
       "      <td>8</td>\n",
       "      <td>8</td>\n",
       "      <td>NaT</td>\n",
       "    </tr>\n",
       "    <tr>\n",
       "      <th>1231</th>\n",
       "      <td>9939</td>\n",
       "      <td>Umidità Relativa</td>\n",
       "      <td>%</td>\n",
       "      <td>677</td>\n",
       "      <td>Cremona Via Fatebenefratelli</td>\n",
       "      <td>43</td>\n",
       "      <td>CR</td>\n",
       "      <td>2006-04-10</td>\n",
       "      <td>N</td>\n",
       "      <td>4999315</td>\n",
       "      <td>582066</td>\n",
       "      <td>10.043836158369393</td>\n",
       "      <td>45.14254063221695</td>\n",
       "      <td>{'latitude': '45.14254063221695', 'longitude':...</td>\n",
       "      <td>8</td>\n",
       "      <td>8</td>\n",
       "      <td>NaT</td>\n",
       "    </tr>\n",
       "  </tbody>\n",
       "</table>\n",
       "<p>1232 rows × 17 columns</p>\n",
       "</div>"
      ],
      "text/plain": [
       "      idsensore           tipologia unit_dimisura  idstazione  \\\n",
       "0         10373      Precipitazione            mm         687   \n",
       "1         10376      Precipitazione            mm         706   \n",
       "2         10377         Temperatura            °C         706   \n",
       "3         10381    Umidità Relativa             %         706   \n",
       "4         10382  Radiazione Globale          W/m²         706   \n",
       "...         ...                 ...           ...         ...   \n",
       "1227       9869    Umidità Relativa             %         672   \n",
       "1228       9933      Precipitazione            mm         677   \n",
       "1229       9935  Radiazione Globale          W/m²         677   \n",
       "1230       9938         Temperatura            °C         677   \n",
       "1231       9939    Umidità Relativa             %         677   \n",
       "\n",
       "                      nomestazione quota provincia  datastart storico  \\\n",
       "0                   Ferno v.Di Dio   215        VA 2007-08-13       N   \n",
       "1                     Lecco v.Sora   272        LC 2008-07-22       N   \n",
       "2                     Lecco v.Sora   272        LC 2008-07-22       N   \n",
       "3                     Lecco v.Sora   272        LC 2008-07-22       N   \n",
       "4                     Lecco v.Sora   272        LC 2008-07-31       N   \n",
       "...                            ...   ...       ...        ...     ...   \n",
       "1227             Cornale v.Libertà    74        PV 2005-07-28       N   \n",
       "1228  Cremona Via Fatebenefratelli    43        CR 2006-04-10       N   \n",
       "1229  Cremona Via Fatebenefratelli    43        CR 2006-04-10       N   \n",
       "1230  Cremona Via Fatebenefratelli    43        CR 2006-04-10       N   \n",
       "1231  Cremona Via Fatebenefratelli    43        CR 2006-04-10       N   \n",
       "\n",
       "     cgb_nord cgb_est                 lng                lat  \\\n",
       "0     5051773  481053   8.756970445453431  45.61924377994763   \n",
       "1     5078987  531045   9.399950344681852  45.86374884127965   \n",
       "2     5078987  531045   9.399950344681852  45.86374884127965   \n",
       "3     5078987  531045   9.399950344681852  45.86374884127965   \n",
       "4     5078987  531045   9.399950344681852  45.86374884127965   \n",
       "...       ...     ...                 ...                ...   \n",
       "1227  4987406  493238   8.914144599002409  45.04007657202963   \n",
       "1228  4999315  582066  10.043836158369393  45.14254063221695   \n",
       "1229  4999315  582066  10.043836158369393  45.14254063221695   \n",
       "1230  4999315  582066  10.043836158369393  45.14254063221695   \n",
       "1231  4999315  582066  10.043836158369393  45.14254063221695   \n",
       "\n",
       "                                               location  \\\n",
       "0     {'latitude': '45.61924377994763', 'longitude':...   \n",
       "1     {'latitude': '45.86374884127965', 'longitude':...   \n",
       "2     {'latitude': '45.86374884127965', 'longitude':...   \n",
       "3     {'latitude': '45.86374884127965', 'longitude':...   \n",
       "4     {'latitude': '45.86374884127965', 'longitude':...   \n",
       "...                                                 ...   \n",
       "1227  {'latitude': '45.04007657202963', 'longitude':...   \n",
       "1228  {'latitude': '45.14254063221695', 'longitude':...   \n",
       "1229  {'latitude': '45.14254063221695', 'longitude':...   \n",
       "1230  {'latitude': '45.14254063221695', 'longitude':...   \n",
       "1231  {'latitude': '45.14254063221695', 'longitude':...   \n",
       "\n",
       "     :@computed_region_6hky_swhk :@computed_region_ttgh_9sm5 datastop  \n",
       "0                              1                           1      NaT  \n",
       "1                             10                          10      NaT  \n",
       "2                             10                          10      NaT  \n",
       "3                             10                          10      NaT  \n",
       "4                             10                          10      NaT  \n",
       "...                          ...                         ...      ...  \n",
       "1227                           7                           7      NaT  \n",
       "1228                           8                           8      NaT  \n",
       "1229                           8                           8      NaT  \n",
       "1230                           8                           8      NaT  \n",
       "1231                           8                           8      NaT  \n",
       "\n",
       "[1232 rows x 17 columns]"
      ]
     },
     "execution_count": 7,
     "metadata": {},
     "output_type": "execute_result"
    }
   ],
   "source": [
    "sensors_df"
   ]
  },
  {
   "cell_type": "code",
   "execution_count": 8,
   "metadata": {},
   "outputs": [
    {
     "data": {
      "text/plain": [
       "array(['Precipitazione', 'Temperatura', 'Umidità Relativa',\n",
       "       'Radiazione Globale', 'Direzione Vento', 'Velocità Vento',\n",
       "       'Livello Idrometrico', 'Altezza Neve'], dtype=object)"
      ]
     },
     "execution_count": 8,
     "metadata": {},
     "output_type": "execute_result"
    }
   ],
   "source": [
    "unique_sensors_list = sensors_df['tipologia'].unique()\n",
    "unique_sensors_list"
   ]
  },
  {
   "cell_type": "code",
   "execution_count": 9,
   "metadata": {},
   "outputs": [],
   "source": [
    "# #Check sensori storici\n",
    "# sensors_df.loc[sensors_df['storico'] == 'S']"
   ]
  },
  {
   "cell_type": "markdown",
   "metadata": {
    "id": "O4d0aJe16-U_"
   },
   "source": [
    "Consideration: inside the plugin the data type for each columns must be set accordingly to QGIS data types."
   ]
  },
  {
   "cell_type": "markdown",
   "metadata": {},
   "source": [
    "Select sensor type and create a list of those sensors from the previous dataframe."
   ]
  },
  {
   "cell_type": "code",
   "execution_count": 10,
   "metadata": {},
   "outputs": [],
   "source": [
    "sensor_sel = \"Temperatura\"\n",
    "sensors_list = (sensors_df.loc[sensors_df['tipologia'] == sensor_sel]).idsensore.tolist()  #& (sensors_df['storico'] == storic_data)\n",
    "sensors_list = list(map(int, sensors_list))"
   ]
  },
  {
   "cell_type": "code",
   "execution_count": 11,
   "metadata": {},
   "outputs": [
    {
     "name": "stdout",
     "output_type": "stream",
     "text": [
      "Selected sensor: Temperatura\n",
      "Number of selected sensor: 248\n"
     ]
    }
   ],
   "source": [
    "print((\"Selected sensor: {sel}\").format(sel=sensor_sel))\n",
    "print((\"Number of selected sensor: {sens_len}\").format(sens_len=len(sensors_list)))"
   ]
  },
  {
   "cell_type": "markdown",
   "metadata": {},
   "source": [
    "----"
   ]
  },
  {
   "cell_type": "markdown",
   "metadata": {
    "id": "Rt3NMBcH6osR"
   },
   "source": [
    "## API Time series\n",
    "This part requires time series and relative information from the API. The output of this section is to obtain a dataframe that has the same characteristics as the dataframe obtained from the csv processing."
   ]
  },
  {
   "cell_type": "code",
   "execution_count": 12,
   "metadata": {},
   "outputs": [],
   "source": [
    "def req_ARPA_start_end_date_API(client):\n",
    "    \"\"\"\n",
    "    Function to request the start and the end date of data available in the ARPA API.\n",
    "\n",
    "      Parameters:\n",
    "        - client: the client session\n",
    "\n",
    "      Returns: \n",
    "        - start_API_date (str): starting date for available data inside the API.\n",
    "        - end_API_date (str): ending date for available data inside the API.\n",
    "        \n",
    "    \"\"\"\n",
    "    weather_sensor_id = \"647i-nhxk\" #Weather sensors id\n",
    "    query = \"\"\" select MAX(data), MIN(data) limit 9999999999999999\"\"\"\n",
    "\n",
    "    min_max_dates = client.get(weather_sensor_id, query=query)[0] #Get max and min dates from the list\n",
    "    \n",
    "    #Start and minimum dates from the dict obtained from the API\n",
    "    start_API_date = min_max_dates['MIN_data']\n",
    "    end_API_date = min_max_dates['MAX_data']\n",
    "    \n",
    "    #Convert to datetime and add 1 day to end date to consider all the values inside the last day (e.g. 20/01/2023 23:10:00 won't be considered and the requested data will be untile 20/01/2023 00:00:00)\n",
    "    start_API_date = datetime.strptime(start_API_date, \"%Y-%m-%dT%H:%M:%S.%f\")\n",
    "    end_API_date = datetime.strptime(end_API_date, \"%Y-%m-%dT%H:%M:%S.%f\")\n",
    "    \n",
    "    print(\"The data from the API are available from: \" ,start_API_date, \" up to: \", end_API_date)\n",
    "\n",
    "    return start_API_date, end_API_date"
   ]
  },
  {
   "cell_type": "code",
   "execution_count": 13,
   "metadata": {},
   "outputs": [
    {
     "name": "stdout",
     "output_type": "stream",
     "text": [
      "The data from the API are available from:  2023-01-01 00:00:00  up to:  2023-01-23 11:50:00\n"
     ]
    }
   ],
   "source": [
    "start_date_API, end_date_API = req_ARPA_start_end_date_API(client)"
   ]
  },
  {
   "cell_type": "code",
   "execution_count": 14,
   "metadata": {},
   "outputs": [
    {
     "data": {
      "text/plain": [
       "(datetime.datetime(2023, 1, 1, 0, 0), datetime.datetime(2023, 1, 23, 11, 50))"
      ]
     },
     "execution_count": 14,
     "metadata": {},
     "output_type": "execute_result"
    }
   ],
   "source": [
    "start_date_API, end_date_API"
   ]
  },
  {
   "cell_type": "code",
   "execution_count": 15,
   "metadata": {},
   "outputs": [
    {
     "data": {
      "text/plain": [
       "(datetime.datetime(2023, 1, 17, 5, 0), datetime.datetime(2023, 1, 19, 10, 0))"
      ]
     },
     "execution_count": 15,
     "metadata": {},
     "output_type": "execute_result"
    }
   ],
   "source": [
    "#In this way can be manually defined otherwise minimum and max dates are selected as previsously shown\n",
    "start_date_API = \"2023-01-17 05:00:00\"\n",
    "end_date_API = \"2023-01-19 10:00:00\"\n",
    "start_date_API = datetime.strptime(start_date_API, \"%Y-%m-%d %H:%M:%S\")\n",
    "end_date_API = datetime.strptime(end_date_API, \"%Y-%m-%d %H:%M:%S\")\n",
    "start_date_API, end_date_API"
   ]
  },
  {
   "cell_type": "markdown",
   "metadata": {},
   "source": [
    "Function to request the time series from the API in the time range considered:"
   ]
  },
  {
   "cell_type": "code",
   "execution_count": 17,
   "metadata": {
    "id": "Q4BlSXDz8bPk"
   },
   "outputs": [],
   "source": [
    "def req_ARPA_data_API(client, start_date, end_date, sensors_list):\n",
    "    \"\"\"\n",
    "    Function to request data from available weather sensors in the ARPA API using a query.\n",
    "\n",
    "      Parameters:\n",
    "        - client: the client session\n",
    "        - start date (str): the start date in yyy-mm-dd format\n",
    "        - end date (str): the end date in yyy-mm-dd format\n",
    "        - sensors_list(str): list of sensors selected to be used as filter\n",
    "        \n",
    "      Returns: \n",
    "        - time_series: time series of values requested with the query for all sensors\n",
    "        \n",
    "    \"\"\"\n",
    "    weather_sensor_id = \"647i-nhxk\"\n",
    "    \n",
    "    #Convert to string in year-month-day format, accepted by ARPA query\n",
    "    start_date = start_date.strftime(\"%Y-%m-%dT%H:%M:%S.%f\")\n",
    "    end_date = end_date.strftime(\"%Y-%m-%dT%H:%M:%S.%f\")\n",
    "    \n",
    "    t = time.time()\n",
    "    \n",
    "    print(\"Starting request to ARPA API\")\n",
    "    \n",
    "    query = \"\"\"\n",
    "      select\n",
    "          *\n",
    "      where data >= \\'{}\\' and data <= \\'{}\\' limit 9999999999999999\n",
    "      \"\"\".format(start_date, end_date)\n",
    "\n",
    "    time_series = client.get(weather_sensor_id, query=query)\n",
    "    print(time_series)\n",
    "    elapsed = time.time() - t\n",
    "    print(\"Time used for requesting the data from ARPA API: \", elapsed)\n",
    "    \n",
    "    #Create dataframe\n",
    "    sensors_values_df_API = pd.DataFrame(time_series, columns=['idsensore','data','valore'])\n",
    "    \n",
    "    #Convert types\n",
    "    sensors_values_df_API['valore'] = sensors_values_df_API['valore'].astype(float)\n",
    "    sensors_values_df_API['idsensore'] = sensors_values_df_API['idsensore'].astype(int)\n",
    "    sensors_values_df_API['data'] = pd.to_datetime(sensors_values_df_API['data'])\n",
    "    sensors_values_df_API = sensors_values_df_API.sort_values(by='data', ascending=True).reset_index(drop=True)\n",
    "    \n",
    "    #Filter with selected sensors list\n",
    "    sensors_values_df_API = sensors_values_df_API[sensors_values_df_API['idsensore'].isin(sensors_list)]\n",
    "\n",
    "    return sensors_values_df_API"
   ]
  },
  {
   "cell_type": "markdown",
   "metadata": {},
   "source": [
    "Output dataframe:\n",
    "- idsensore (int)\n",
    "- data (datetime)\n",
    "- valore (float)"
   ]
  },
  {
   "cell_type": "code",
   "execution_count": 18,
   "metadata": {
    "id": "jIO998t-8ThF"
   },
   "outputs": [
    {
     "name": "stdout",
     "output_type": "stream",
     "text": [
      "Starting request to ARPA API\n"
     ]
    },
    {
     "name": "stderr",
     "output_type": "stream",
     "text": [
      "IOPub data rate exceeded.\n",
      "The Jupyter server will temporarily stop sending output\n",
      "to the client in order to avoid crashing it.\n",
      "To change this limit, set the config variable\n",
      "`--ServerApp.iopub_data_rate_limit`.\n",
      "\n",
      "Current values:\n",
      "ServerApp.iopub_data_rate_limit=1000000.0 (bytes/sec)\n",
      "ServerApp.rate_limit_window=3.0 (secs)\n",
      "\n"
     ]
    }
   ],
   "source": [
    "sensors_values_API = req_ARPA_data_API(client, start_date_API, end_date_API, sensors_list)"
   ]
  },
  {
   "cell_type": "code",
   "execution_count": 19,
   "metadata": {},
   "outputs": [
    {
     "data": {
      "text/plain": [
       "idsensore             int32\n",
       "data         datetime64[ns]\n",
       "valore              float64\n",
       "dtype: object"
      ]
     },
     "execution_count": 19,
     "metadata": {},
     "output_type": "execute_result"
    }
   ],
   "source": [
    "sensors_values_API.dtypes"
   ]
  },
  {
   "cell_type": "markdown",
   "metadata": {},
   "source": [
    "Final dataframe:"
   ]
  },
  {
   "cell_type": "code",
   "execution_count": 20,
   "metadata": {},
   "outputs": [
    {
     "data": {
      "text/html": [
       "<div>\n",
       "<style scoped>\n",
       "    .dataframe tbody tr th:only-of-type {\n",
       "        vertical-align: middle;\n",
       "    }\n",
       "\n",
       "    .dataframe tbody tr th {\n",
       "        vertical-align: top;\n",
       "    }\n",
       "\n",
       "    .dataframe thead th {\n",
       "        text-align: right;\n",
       "    }\n",
       "</style>\n",
       "<table border=\"1\" class=\"dataframe\">\n",
       "  <thead>\n",
       "    <tr style=\"text-align: right;\">\n",
       "      <th></th>\n",
       "      <th>idsensore</th>\n",
       "      <th>data</th>\n",
       "      <th>valore</th>\n",
       "    </tr>\n",
       "  </thead>\n",
       "  <tbody>\n",
       "    <tr>\n",
       "      <th>1</th>\n",
       "      <td>9003</td>\n",
       "      <td>2023-01-17 05:00:00</td>\n",
       "      <td>-4.1</td>\n",
       "    </tr>\n",
       "    <tr>\n",
       "      <th>5</th>\n",
       "      <td>14317</td>\n",
       "      <td>2023-01-17 05:00:00</td>\n",
       "      <td>-0.8</td>\n",
       "    </tr>\n",
       "    <tr>\n",
       "      <th>37</th>\n",
       "      <td>19363</td>\n",
       "      <td>2023-01-17 05:00:00</td>\n",
       "      <td>1.6</td>\n",
       "    </tr>\n",
       "    <tr>\n",
       "      <th>38</th>\n",
       "      <td>8123</td>\n",
       "      <td>2023-01-17 05:00:00</td>\n",
       "      <td>1.0</td>\n",
       "    </tr>\n",
       "    <tr>\n",
       "      <th>65</th>\n",
       "      <td>9310</td>\n",
       "      <td>2023-01-17 05:00:00</td>\n",
       "      <td>3.7</td>\n",
       "    </tr>\n",
       "    <tr>\n",
       "      <th>...</th>\n",
       "      <td>...</td>\n",
       "      <td>...</td>\n",
       "      <td>...</td>\n",
       "    </tr>\n",
       "    <tr>\n",
       "      <th>363259</th>\n",
       "      <td>17460</td>\n",
       "      <td>2023-01-19 10:00:00</td>\n",
       "      <td>1.5</td>\n",
       "    </tr>\n",
       "    <tr>\n",
       "      <th>363265</th>\n",
       "      <td>4058</td>\n",
       "      <td>2023-01-19 10:00:00</td>\n",
       "      <td>1.2</td>\n",
       "    </tr>\n",
       "    <tr>\n",
       "      <th>363267</th>\n",
       "      <td>5911</td>\n",
       "      <td>2023-01-19 10:00:00</td>\n",
       "      <td>1.6</td>\n",
       "    </tr>\n",
       "    <tr>\n",
       "      <th>363270</th>\n",
       "      <td>2433</td>\n",
       "      <td>2023-01-19 10:00:00</td>\n",
       "      <td>1.4</td>\n",
       "    </tr>\n",
       "    <tr>\n",
       "      <th>363277</th>\n",
       "      <td>14242</td>\n",
       "      <td>2023-01-19 10:00:00</td>\n",
       "      <td>-1.8</td>\n",
       "    </tr>\n",
       "  </tbody>\n",
       "</table>\n",
       "<p>60888 rows × 3 columns</p>\n",
       "</div>"
      ],
      "text/plain": [
       "        idsensore                data  valore\n",
       "1            9003 2023-01-17 05:00:00    -4.1\n",
       "5           14317 2023-01-17 05:00:00    -0.8\n",
       "37          19363 2023-01-17 05:00:00     1.6\n",
       "38           8123 2023-01-17 05:00:00     1.0\n",
       "65           9310 2023-01-17 05:00:00     3.7\n",
       "...           ...                 ...     ...\n",
       "363259      17460 2023-01-19 10:00:00     1.5\n",
       "363265       4058 2023-01-19 10:00:00     1.2\n",
       "363267       5911 2023-01-19 10:00:00     1.6\n",
       "363270       2433 2023-01-19 10:00:00     1.4\n",
       "363277      14242 2023-01-19 10:00:00    -1.8\n",
       "\n",
       "[60888 rows x 3 columns]"
      ]
     },
     "execution_count": 20,
     "metadata": {},
     "output_type": "execute_result"
    }
   ],
   "source": [
    "sensors_values_API"
   ]
  },
  {
   "cell_type": "markdown",
   "metadata": {},
   "source": [
    "---"
   ]
  },
  {
   "cell_type": "markdown",
   "metadata": {},
   "source": [
    "## Time series from csv files\n",
    "The output of this sections is a dataframe that has the same characteristics of the time series obtained with the API."
   ]
  },
  {
   "cell_type": "code",
   "execution_count": 21,
   "metadata": {
    "id": "AzdiqW6zBn1y"
   },
   "outputs": [],
   "source": [
    "def download_extract_csv_from_year(year):\n",
    "    \"\"\"\n",
    "    Function for selecting the correct link for downloading zipped .csv meteorological data from ARPA sensors and extracting it.\n",
    "\n",
    "    For older data it is necessary to download this .csv files containing the time series of the meteorological sensors.\n",
    "\n",
    "            Parameters:\n",
    "                year(str): the selected year for downloading the .csv file containing the meteorological sensors time series\n",
    "\n",
    "            Returns:\n",
    "                None\n",
    "    \"\"\"\n",
    "    \n",
    "    #Create a dict with years and link to the zip folder on Open Data Lombardia\n",
    "    switcher = {\n",
    "        '2022': \"https://www.dati.lombardia.it/download/mvvc-nmzv/application%2Fzip\",\n",
    "        '2021': \"https://www.dati.lombardia.it/download/49n9-866s/application%2Fzip\",\n",
    "        '2020': \"https://www.dati.lombardia.it/download/erjn-istm/application%2Fzip\",\n",
    "        '2019': \"https://www.dati.lombardia.it/download/wrhf-6ztd/application%2Fzip\",\n",
    "        '2018': \"https://www.dati.lombardia.it/download/sfbe-yqe8/application%2Fzip\",\n",
    "        '2017': \"https://www.dati.lombardia.it/download/vx6g-atiu/application%2Fzip\"\n",
    "    }\n",
    "    \n",
    "    #Select the url and make request\n",
    "    url = switcher[year]\n",
    "    filename = 'meteo_'+str(year)+'.zip'\n",
    "    \n",
    "    #If yrar.csv file is already downloaded, skip download\n",
    "    if not os.path.exists(\"2022.csv\"):\n",
    "\n",
    "        print(('Downloading {filename} -> Started. It might take a while... Please wait!').format(filename = filename))\n",
    "        req = requests.get(url)\n",
    "\n",
    "        # Writing the file to the local file system\n",
    "        with open(filename,'wb') as output_file:\n",
    "            output_file.write(req.content)\n",
    "        print(('Downloading {filename} -> Completed').format(filename = filename))\n",
    "\n",
    "        print((\"Starting unzipping: {filename}\").format(filename=filename))\n",
    "        #Loading the .zip and creating a zip object\n",
    "        with ZipFile(filename, 'r') as zObject:\n",
    "            # Extracting all the members of the zip into a specific location\n",
    "            zObject.extractall()\n",
    "\n",
    "        csv_file=str(year)+'.csv'\n",
    "        print((\"File unzipped: {filename}\").format(filename=filename))\n",
    "        print((\"File csv saved: {filename}\").format(filename=csv_file))\n",
    "\n",
    "        #Remove the zip folder\n",
    "        if os.path.exists(filename):\n",
    "            print(\"Zip folder removed\")\n",
    "            os.remove(filename)\n",
    "        else:\n",
    "            print((\"The file {filename} does not exist in this folder\").format(filename=filename))\n",
    "    \n",
    "    else:\n",
    "        print(year+\".csv already exists. It won't be downloaded.\")"
   ]
  },
  {
   "cell_type": "code",
   "execution_count": 22,
   "metadata": {},
   "outputs": [],
   "source": [
    "year = 2022\n",
    "csv_file = str(year)+'.csv'"
   ]
  },
  {
   "cell_type": "markdown",
   "metadata": {},
   "source": [
    "Make an if that it doenst download the file if the csv is already present."
   ]
  },
  {
   "cell_type": "code",
   "execution_count": 23,
   "metadata": {
    "id": "moc31PCoDuG0"
   },
   "outputs": [
    {
     "name": "stdout",
     "output_type": "stream",
     "text": [
      "2022.csv already exists. It won't be downloaded.\n"
     ]
    }
   ],
   "source": [
    "download_extract_csv_from_year(str(year))"
   ]
  },
  {
   "cell_type": "code",
   "execution_count": 24,
   "metadata": {},
   "outputs": [
    {
     "data": {
      "text/plain": [
       "(datetime.datetime(2022, 5, 1, 5, 0), datetime.datetime(2022, 6, 30, 10, 0))"
      ]
     },
     "execution_count": 24,
     "metadata": {},
     "output_type": "execute_result"
    }
   ],
   "source": [
    "start_date_csv = str(year)+\"-05-01 05:00:00\"\n",
    "end_date_csv = str(year)+\"-06-30 10:00:00\"\n",
    "start_date_csv = datetime.strptime(start_date_csv, \"%Y-%m-%d %H:%M:%S\")\n",
    "end_date_csv = datetime.strptime(end_date_csv, \"%Y-%m-%d %H:%M:%S\")\n",
    "start_date_csv, end_date_csv"
   ]
  },
  {
   "cell_type": "markdown",
   "metadata": {},
   "source": [
    "Create a function that prepares the dataframe. Function to process the csv file using Dask library to manage big files. \n",
    "- proper columns names like the API ones\n",
    "- removes useless columns\n",
    "- converts to rfifodata tydd\n",
    "- filters over the time range\n",
    "- filters with selected sensor list\n",
    "- compute dask dataframe"
   ]
  },
  {
   "cell_type": "code",
   "execution_count": 25,
   "metadata": {},
   "outputs": [],
   "source": [
    "def process_ARPA_csv(csv_file, start_date, end_date, sensors_list):\n",
    "    \"\"\"\n",
    "    This function reads the ARPA csv file into a dask dataframe and provided a computed dataframe. It renames the columns like the API columns names, filters between provided dates and select the sensors present in the list.\n",
    "\n",
    "            Parameters:\n",
    "                csv_file(str): name of the csv file\n",
    "                start_date(datetime): start date for processing\n",
    "                end_date(datetime): end date for processing\n",
    "                sensors_list(string list): list of selected sensors\n",
    "\n",
    "            Returns:\n",
    "                df(dataframe): computed filtered dask dataframe\n",
    "    \"\"\"\n",
    "    \n",
    "    print((\"The time range is {start_date} to {end_date}\").format(start_date=start_date,end_date=end_date))\n",
    "    #Read csv file with Dask dataframe\n",
    "    df = dd.read_csv(csv_file, usecols=['IdSensore','Data','Valore']) \n",
    "    \n",
    "    #Make csv columns names equal to API columns names\n",
    "    df = df.rename(columns={'IdSensore': 'idsensore', 'Data': 'data', 'Valore': 'valore'})\n",
    "    \n",
    "    #Type formatting\n",
    "    df['valore'] = df['valore'].astype(float)\n",
    "    df['idsensore'] = df['idsensore'].astype(int)\n",
    "    df['data'] = dd.to_datetime(df.data, format='%d/%m/%Y %H:%M:%S')\n",
    "    \n",
    "    #Filter using the dates\n",
    "    df = df.loc[(df['data'] >= start_date) & (df['data'] <= end_date)]\n",
    "    df['data'] = dd.to_datetime(df.data, format='%d/%m/%Y %H:%M:%S')\n",
    "    #Filter on temperature sensors list\n",
    "    sensors_list = list(map(int, sensors_list))\n",
    "    df = df[df['idsensore'].isin(sensors_list)]\n",
    "    \n",
    "    print(\"Starting computing dataframe\")\n",
    "    #Compute df\n",
    "    t = time.time()\n",
    "    df = df.compute()\n",
    "    elapsed = time.time() - t\n",
    "    print(\"Time used for computing dataframe: \", elapsed)\n",
    "    \n",
    "    return df "
   ]
  },
  {
   "cell_type": "code",
   "execution_count": 26,
   "metadata": {},
   "outputs": [
    {
     "name": "stdout",
     "output_type": "stream",
     "text": [
      "The time range is 2022-05-01 05:00:00 to 2022-06-30 10:00:00\n",
      "Starting computing dataframe\n",
      "Time used for computing dataframe:  17.06126618385315\n"
     ]
    }
   ],
   "source": [
    "sensors_values_csv = process_ARPA_csv(csv_file, start_date_csv, end_date_csv, sensors_list)"
   ]
  },
  {
   "cell_type": "code",
   "execution_count": 27,
   "metadata": {},
   "outputs": [
    {
     "data": {
      "text/plain": [
       "idsensore             int32\n",
       "data         datetime64[ns]\n",
       "valore              float64\n",
       "dtype: object"
      ]
     },
     "execution_count": 27,
     "metadata": {},
     "output_type": "execute_result"
    }
   ],
   "source": [
    "sensors_values_csv.dtypes"
   ]
  },
  {
   "cell_type": "markdown",
   "metadata": {},
   "source": [
    "Final dataframe:"
   ]
  },
  {
   "cell_type": "code",
   "execution_count": 28,
   "metadata": {},
   "outputs": [
    {
     "data": {
      "text/html": [
       "<div>\n",
       "<style scoped>\n",
       "    .dataframe tbody tr th:only-of-type {\n",
       "        vertical-align: middle;\n",
       "    }\n",
       "\n",
       "    .dataframe tbody tr th {\n",
       "        vertical-align: top;\n",
       "    }\n",
       "\n",
       "    .dataframe thead th {\n",
       "        text-align: right;\n",
       "    }\n",
       "</style>\n",
       "<table border=\"1\" class=\"dataframe\">\n",
       "  <thead>\n",
       "    <tr style=\"text-align: right;\">\n",
       "      <th></th>\n",
       "      <th>idsensore</th>\n",
       "      <th>data</th>\n",
       "      <th>valore</th>\n",
       "    </tr>\n",
       "  </thead>\n",
       "  <tbody>\n",
       "    <tr>\n",
       "      <th>636743</th>\n",
       "      <td>53</td>\n",
       "      <td>2022-05-01 05:00:00</td>\n",
       "      <td>-0.2</td>\n",
       "    </tr>\n",
       "    <tr>\n",
       "      <th>636755</th>\n",
       "      <td>115</td>\n",
       "      <td>2022-05-01 05:00:00</td>\n",
       "      <td>0.5</td>\n",
       "    </tr>\n",
       "    <tr>\n",
       "      <th>636758</th>\n",
       "      <td>121</td>\n",
       "      <td>2022-05-01 05:00:00</td>\n",
       "      <td>6.9</td>\n",
       "    </tr>\n",
       "    <tr>\n",
       "      <th>636769</th>\n",
       "      <td>2001</td>\n",
       "      <td>2022-05-01 05:00:00</td>\n",
       "      <td>13.7</td>\n",
       "    </tr>\n",
       "    <tr>\n",
       "      <th>636773</th>\n",
       "      <td>2039</td>\n",
       "      <td>2022-05-01 05:00:00</td>\n",
       "      <td>11.8</td>\n",
       "    </tr>\n",
       "    <tr>\n",
       "      <th>...</th>\n",
       "      <td>...</td>\n",
       "      <td>...</td>\n",
       "      <td>...</td>\n",
       "    </tr>\n",
       "    <tr>\n",
       "      <th>986830</th>\n",
       "      <td>32370</td>\n",
       "      <td>2022-06-30 10:00:00</td>\n",
       "      <td>20.6</td>\n",
       "    </tr>\n",
       "    <tr>\n",
       "      <th>986837</th>\n",
       "      <td>32391</td>\n",
       "      <td>2022-06-30 10:00:00</td>\n",
       "      <td>25.4</td>\n",
       "    </tr>\n",
       "    <tr>\n",
       "      <th>986841</th>\n",
       "      <td>32401</td>\n",
       "      <td>2022-06-30 10:00:00</td>\n",
       "      <td>15.1</td>\n",
       "    </tr>\n",
       "    <tr>\n",
       "      <th>986857</th>\n",
       "      <td>12025</td>\n",
       "      <td>2022-06-30 10:00:00</td>\n",
       "      <td>29.8</td>\n",
       "    </tr>\n",
       "    <tr>\n",
       "      <th>986859</th>\n",
       "      <td>17001</td>\n",
       "      <td>2022-06-30 10:00:00</td>\n",
       "      <td>27.2</td>\n",
       "    </tr>\n",
       "  </tbody>\n",
       "</table>\n",
       "<p>1641102 rows × 3 columns</p>\n",
       "</div>"
      ],
      "text/plain": [
       "        idsensore                data  valore\n",
       "636743         53 2022-05-01 05:00:00    -0.2\n",
       "636755        115 2022-05-01 05:00:00     0.5\n",
       "636758        121 2022-05-01 05:00:00     6.9\n",
       "636769       2001 2022-05-01 05:00:00    13.7\n",
       "636773       2039 2022-05-01 05:00:00    11.8\n",
       "...           ...                 ...     ...\n",
       "986830      32370 2022-06-30 10:00:00    20.6\n",
       "986837      32391 2022-06-30 10:00:00    25.4\n",
       "986841      32401 2022-06-30 10:00:00    15.1\n",
       "986857      12025 2022-06-30 10:00:00    29.8\n",
       "986859      17001 2022-06-30 10:00:00    27.2\n",
       "\n",
       "[1641102 rows x 3 columns]"
      ]
     },
     "execution_count": 28,
     "metadata": {},
     "output_type": "execute_result"
    }
   ],
   "source": [
    "sensors_values_csv"
   ]
  },
  {
   "cell_type": "markdown",
   "metadata": {},
   "source": [
    "## Data aggregation"
   ]
  },
  {
   "cell_type": "markdown",
   "metadata": {},
   "source": [
    "Function to aggregate the data in the dataframe. Both API and csv data can be aggregated.\n",
    "Must provide a dataframe with idsensore (int), data (datetime), valore (float).\n",
    "- Temporal aggregation: day, month, year etc.\n",
    "- Aggregation function: mean, max, min etc.\n",
    "- Sensor id aggregation (idsensore)\n",
    "\n"
   ]
  },
  {
   "cell_type": "code",
   "execution_count": 29,
   "metadata": {},
   "outputs": [],
   "source": [
    "def aggregate_group_data(df, temporal_agg=\"D\", agg=\"mean\"):\n",
    "\n",
    "    \"\"\"\n",
    "    This function aggregates ARPA data with providing a temporal aggregation (day, week etc.) and a statistical aggregration function (mean, max, min etc.). The dataframe is grouped by sensor id (idsensore).\n",
    "\n",
    "            Parameters:\n",
    "                df(dataframe): ARPA dataframe containing the following columns: \"idsensore\"(int), \"data\"(datetime) and \"valore\"(float)\n",
    "                temporal_agg(str): the temporal aggregation accepted by the resample() method (D, M, Y or others)\n",
    "                agg(str): the statistical aggregation to be performed (mean, max, min etc.)\n",
    "\n",
    "            Returns:\n",
    "                df(dataframe): computed filtered and aggregated dask dataframe\n",
    "    \"\"\"\n",
    "    \n",
    "    print(\"Number of sensors available in the dataframe: \", len(df.idsensore.unique()))\n",
    "    print(\"Aggregation function: \" + agg)\n",
    "    print(\"Temporal aggregation: \" + temporal_agg)\n",
    "    df = df.set_index('data')\n",
    "          \n",
    "    grouped = df.groupby('idsensore').resample(str(temporal_agg))['valore'].agg(str(agg))\n",
    "    grouped = grouped.reset_index()\n",
    "    \n",
    "    return grouped"
   ]
  },
  {
   "cell_type": "markdown",
   "metadata": {},
   "source": [
    "Use the function to aggregate and group the data. You can pass the value obtained from the API or the values obtaines from the csv."
   ]
  },
  {
   "cell_type": "code",
   "execution_count": 30,
   "metadata": {},
   "outputs": [
    {
     "name": "stdout",
     "output_type": "stream",
     "text": [
      "Number of sensors available in the dataframe:  196\n",
      "Aggregation function: mean\n",
      "Temporal aggregation: M\n"
     ]
    }
   ],
   "source": [
    "sensor_test_agg = aggregate_group_data(sensors_values_csv, \"M\", \"mean\")"
   ]
  },
  {
   "cell_type": "code",
   "execution_count": 31,
   "metadata": {},
   "outputs": [
    {
     "data": {
      "text/html": [
       "<div>\n",
       "<style scoped>\n",
       "    .dataframe tbody tr th:only-of-type {\n",
       "        vertical-align: middle;\n",
       "    }\n",
       "\n",
       "    .dataframe tbody tr th {\n",
       "        vertical-align: top;\n",
       "    }\n",
       "\n",
       "    .dataframe thead th {\n",
       "        text-align: right;\n",
       "    }\n",
       "</style>\n",
       "<table border=\"1\" class=\"dataframe\">\n",
       "  <thead>\n",
       "    <tr style=\"text-align: right;\">\n",
       "      <th></th>\n",
       "      <th>idsensore</th>\n",
       "      <th>data</th>\n",
       "      <th>valore</th>\n",
       "    </tr>\n",
       "  </thead>\n",
       "  <tbody>\n",
       "    <tr>\n",
       "      <th>0</th>\n",
       "      <td>53</td>\n",
       "      <td>2022-05-31</td>\n",
       "      <td>9.300181</td>\n",
       "    </tr>\n",
       "    <tr>\n",
       "      <th>1</th>\n",
       "      <td>53</td>\n",
       "      <td>2022-06-30</td>\n",
       "      <td>13.248206</td>\n",
       "    </tr>\n",
       "    <tr>\n",
       "      <th>2</th>\n",
       "      <td>115</td>\n",
       "      <td>2022-05-31</td>\n",
       "      <td>8.393917</td>\n",
       "    </tr>\n",
       "    <tr>\n",
       "      <th>3</th>\n",
       "      <td>115</td>\n",
       "      <td>2022-06-30</td>\n",
       "      <td>12.771381</td>\n",
       "    </tr>\n",
       "    <tr>\n",
       "      <th>4</th>\n",
       "      <td>121</td>\n",
       "      <td>2022-05-31</td>\n",
       "      <td>16.341272</td>\n",
       "    </tr>\n",
       "    <tr>\n",
       "      <th>...</th>\n",
       "      <td>...</td>\n",
       "      <td>...</td>\n",
       "      <td>...</td>\n",
       "    </tr>\n",
       "    <tr>\n",
       "      <th>387</th>\n",
       "      <td>32370</td>\n",
       "      <td>2022-06-30</td>\n",
       "      <td>17.943569</td>\n",
       "    </tr>\n",
       "    <tr>\n",
       "      <th>388</th>\n",
       "      <td>32391</td>\n",
       "      <td>2022-05-31</td>\n",
       "      <td>19.621934</td>\n",
       "    </tr>\n",
       "    <tr>\n",
       "      <th>389</th>\n",
       "      <td>32391</td>\n",
       "      <td>2022-06-30</td>\n",
       "      <td>24.457305</td>\n",
       "    </tr>\n",
       "    <tr>\n",
       "      <th>390</th>\n",
       "      <td>32401</td>\n",
       "      <td>2022-05-31</td>\n",
       "      <td>9.437875</td>\n",
       "    </tr>\n",
       "    <tr>\n",
       "      <th>391</th>\n",
       "      <td>32401</td>\n",
       "      <td>2022-06-30</td>\n",
       "      <td>13.869400</td>\n",
       "    </tr>\n",
       "  </tbody>\n",
       "</table>\n",
       "<p>392 rows × 3 columns</p>\n",
       "</div>"
      ],
      "text/plain": [
       "     idsensore       data     valore\n",
       "0           53 2022-05-31   9.300181\n",
       "1           53 2022-06-30  13.248206\n",
       "2          115 2022-05-31   8.393917\n",
       "3          115 2022-06-30  12.771381\n",
       "4          121 2022-05-31  16.341272\n",
       "..         ...        ...        ...\n",
       "387      32370 2022-06-30  17.943569\n",
       "388      32391 2022-05-31  19.621934\n",
       "389      32391 2022-06-30  24.457305\n",
       "390      32401 2022-05-31   9.437875\n",
       "391      32401 2022-06-30  13.869400\n",
       "\n",
       "[392 rows x 3 columns]"
      ]
     },
     "execution_count": 31,
     "metadata": {},
     "output_type": "execute_result"
    }
   ],
   "source": [
    "sensor_test_agg"
   ]
  },
  {
   "cell_type": "markdown",
   "metadata": {},
   "source": [
    "## Join sensors information and time series \n",
    "Once the dataframes are created is possible to merge the information."
   ]
  },
  {
   "cell_type": "code",
   "execution_count": 32,
   "metadata": {},
   "outputs": [
    {
     "data": {
      "text/html": [
       "<div>\n",
       "<style scoped>\n",
       "    .dataframe tbody tr th:only-of-type {\n",
       "        vertical-align: middle;\n",
       "    }\n",
       "\n",
       "    .dataframe tbody tr th {\n",
       "        vertical-align: top;\n",
       "    }\n",
       "\n",
       "    .dataframe thead th {\n",
       "        text-align: right;\n",
       "    }\n",
       "</style>\n",
       "<table border=\"1\" class=\"dataframe\">\n",
       "  <thead>\n",
       "    <tr style=\"text-align: right;\">\n",
       "      <th></th>\n",
       "      <th>idsensore</th>\n",
       "      <th>tipologia</th>\n",
       "      <th>unit_dimisura</th>\n",
       "      <th>idstazione</th>\n",
       "      <th>nomestazione</th>\n",
       "      <th>quota</th>\n",
       "      <th>provincia</th>\n",
       "      <th>datastart</th>\n",
       "      <th>storico</th>\n",
       "      <th>cgb_nord</th>\n",
       "      <th>cgb_est</th>\n",
       "      <th>lng</th>\n",
       "      <th>lat</th>\n",
       "      <th>location</th>\n",
       "      <th>:@computed_region_6hky_swhk</th>\n",
       "      <th>:@computed_region_ttgh_9sm5</th>\n",
       "      <th>datastop</th>\n",
       "    </tr>\n",
       "  </thead>\n",
       "  <tbody>\n",
       "    <tr>\n",
       "      <th>0</th>\n",
       "      <td>10373</td>\n",
       "      <td>Precipitazione</td>\n",
       "      <td>mm</td>\n",
       "      <td>687</td>\n",
       "      <td>Ferno v.Di Dio</td>\n",
       "      <td>215</td>\n",
       "      <td>VA</td>\n",
       "      <td>2007-08-13</td>\n",
       "      <td>N</td>\n",
       "      <td>5051773</td>\n",
       "      <td>481053</td>\n",
       "      <td>8.756970445453431</td>\n",
       "      <td>45.61924377994763</td>\n",
       "      <td>{'latitude': '45.61924377994763', 'longitude':...</td>\n",
       "      <td>1</td>\n",
       "      <td>1</td>\n",
       "      <td>NaT</td>\n",
       "    </tr>\n",
       "    <tr>\n",
       "      <th>1</th>\n",
       "      <td>10376</td>\n",
       "      <td>Precipitazione</td>\n",
       "      <td>mm</td>\n",
       "      <td>706</td>\n",
       "      <td>Lecco v.Sora</td>\n",
       "      <td>272</td>\n",
       "      <td>LC</td>\n",
       "      <td>2008-07-22</td>\n",
       "      <td>N</td>\n",
       "      <td>5078987</td>\n",
       "      <td>531045</td>\n",
       "      <td>9.399950344681852</td>\n",
       "      <td>45.86374884127965</td>\n",
       "      <td>{'latitude': '45.86374884127965', 'longitude':...</td>\n",
       "      <td>10</td>\n",
       "      <td>10</td>\n",
       "      <td>NaT</td>\n",
       "    </tr>\n",
       "    <tr>\n",
       "      <th>2</th>\n",
       "      <td>10377</td>\n",
       "      <td>Temperatura</td>\n",
       "      <td>°C</td>\n",
       "      <td>706</td>\n",
       "      <td>Lecco v.Sora</td>\n",
       "      <td>272</td>\n",
       "      <td>LC</td>\n",
       "      <td>2008-07-22</td>\n",
       "      <td>N</td>\n",
       "      <td>5078987</td>\n",
       "      <td>531045</td>\n",
       "      <td>9.399950344681852</td>\n",
       "      <td>45.86374884127965</td>\n",
       "      <td>{'latitude': '45.86374884127965', 'longitude':...</td>\n",
       "      <td>10</td>\n",
       "      <td>10</td>\n",
       "      <td>NaT</td>\n",
       "    </tr>\n",
       "    <tr>\n",
       "      <th>3</th>\n",
       "      <td>10381</td>\n",
       "      <td>Umidità Relativa</td>\n",
       "      <td>%</td>\n",
       "      <td>706</td>\n",
       "      <td>Lecco v.Sora</td>\n",
       "      <td>272</td>\n",
       "      <td>LC</td>\n",
       "      <td>2008-07-22</td>\n",
       "      <td>N</td>\n",
       "      <td>5078987</td>\n",
       "      <td>531045</td>\n",
       "      <td>9.399950344681852</td>\n",
       "      <td>45.86374884127965</td>\n",
       "      <td>{'latitude': '45.86374884127965', 'longitude':...</td>\n",
       "      <td>10</td>\n",
       "      <td>10</td>\n",
       "      <td>NaT</td>\n",
       "    </tr>\n",
       "    <tr>\n",
       "      <th>4</th>\n",
       "      <td>10382</td>\n",
       "      <td>Radiazione Globale</td>\n",
       "      <td>W/m²</td>\n",
       "      <td>706</td>\n",
       "      <td>Lecco v.Sora</td>\n",
       "      <td>272</td>\n",
       "      <td>LC</td>\n",
       "      <td>2008-07-31</td>\n",
       "      <td>N</td>\n",
       "      <td>5078987</td>\n",
       "      <td>531045</td>\n",
       "      <td>9.399950344681852</td>\n",
       "      <td>45.86374884127965</td>\n",
       "      <td>{'latitude': '45.86374884127965', 'longitude':...</td>\n",
       "      <td>10</td>\n",
       "      <td>10</td>\n",
       "      <td>NaT</td>\n",
       "    </tr>\n",
       "    <tr>\n",
       "      <th>...</th>\n",
       "      <td>...</td>\n",
       "      <td>...</td>\n",
       "      <td>...</td>\n",
       "      <td>...</td>\n",
       "      <td>...</td>\n",
       "      <td>...</td>\n",
       "      <td>...</td>\n",
       "      <td>...</td>\n",
       "      <td>...</td>\n",
       "      <td>...</td>\n",
       "      <td>...</td>\n",
       "      <td>...</td>\n",
       "      <td>...</td>\n",
       "      <td>...</td>\n",
       "      <td>...</td>\n",
       "      <td>...</td>\n",
       "      <td>...</td>\n",
       "    </tr>\n",
       "    <tr>\n",
       "      <th>1227</th>\n",
       "      <td>9869</td>\n",
       "      <td>Umidità Relativa</td>\n",
       "      <td>%</td>\n",
       "      <td>672</td>\n",
       "      <td>Cornale v.Libertà</td>\n",
       "      <td>74</td>\n",
       "      <td>PV</td>\n",
       "      <td>2005-07-28</td>\n",
       "      <td>N</td>\n",
       "      <td>4987406</td>\n",
       "      <td>493238</td>\n",
       "      <td>8.914144599002409</td>\n",
       "      <td>45.04007657202963</td>\n",
       "      <td>{'latitude': '45.04007657202963', 'longitude':...</td>\n",
       "      <td>7</td>\n",
       "      <td>7</td>\n",
       "      <td>NaT</td>\n",
       "    </tr>\n",
       "    <tr>\n",
       "      <th>1228</th>\n",
       "      <td>9933</td>\n",
       "      <td>Precipitazione</td>\n",
       "      <td>mm</td>\n",
       "      <td>677</td>\n",
       "      <td>Cremona Via Fatebenefratelli</td>\n",
       "      <td>43</td>\n",
       "      <td>CR</td>\n",
       "      <td>2006-04-10</td>\n",
       "      <td>N</td>\n",
       "      <td>4999315</td>\n",
       "      <td>582066</td>\n",
       "      <td>10.043836158369393</td>\n",
       "      <td>45.14254063221695</td>\n",
       "      <td>{'latitude': '45.14254063221695', 'longitude':...</td>\n",
       "      <td>8</td>\n",
       "      <td>8</td>\n",
       "      <td>NaT</td>\n",
       "    </tr>\n",
       "    <tr>\n",
       "      <th>1229</th>\n",
       "      <td>9935</td>\n",
       "      <td>Radiazione Globale</td>\n",
       "      <td>W/m²</td>\n",
       "      <td>677</td>\n",
       "      <td>Cremona Via Fatebenefratelli</td>\n",
       "      <td>43</td>\n",
       "      <td>CR</td>\n",
       "      <td>2006-04-10</td>\n",
       "      <td>N</td>\n",
       "      <td>4999315</td>\n",
       "      <td>582066</td>\n",
       "      <td>10.043836158369393</td>\n",
       "      <td>45.14254063221695</td>\n",
       "      <td>{'latitude': '45.14254063221695', 'longitude':...</td>\n",
       "      <td>8</td>\n",
       "      <td>8</td>\n",
       "      <td>NaT</td>\n",
       "    </tr>\n",
       "    <tr>\n",
       "      <th>1230</th>\n",
       "      <td>9938</td>\n",
       "      <td>Temperatura</td>\n",
       "      <td>°C</td>\n",
       "      <td>677</td>\n",
       "      <td>Cremona Via Fatebenefratelli</td>\n",
       "      <td>43</td>\n",
       "      <td>CR</td>\n",
       "      <td>2006-04-10</td>\n",
       "      <td>N</td>\n",
       "      <td>4999315</td>\n",
       "      <td>582066</td>\n",
       "      <td>10.043836158369393</td>\n",
       "      <td>45.14254063221695</td>\n",
       "      <td>{'latitude': '45.14254063221695', 'longitude':...</td>\n",
       "      <td>8</td>\n",
       "      <td>8</td>\n",
       "      <td>NaT</td>\n",
       "    </tr>\n",
       "    <tr>\n",
       "      <th>1231</th>\n",
       "      <td>9939</td>\n",
       "      <td>Umidità Relativa</td>\n",
       "      <td>%</td>\n",
       "      <td>677</td>\n",
       "      <td>Cremona Via Fatebenefratelli</td>\n",
       "      <td>43</td>\n",
       "      <td>CR</td>\n",
       "      <td>2006-04-10</td>\n",
       "      <td>N</td>\n",
       "      <td>4999315</td>\n",
       "      <td>582066</td>\n",
       "      <td>10.043836158369393</td>\n",
       "      <td>45.14254063221695</td>\n",
       "      <td>{'latitude': '45.14254063221695', 'longitude':...</td>\n",
       "      <td>8</td>\n",
       "      <td>8</td>\n",
       "      <td>NaT</td>\n",
       "    </tr>\n",
       "  </tbody>\n",
       "</table>\n",
       "<p>1232 rows × 17 columns</p>\n",
       "</div>"
      ],
      "text/plain": [
       "      idsensore           tipologia unit_dimisura  idstazione  \\\n",
       "0         10373      Precipitazione            mm         687   \n",
       "1         10376      Precipitazione            mm         706   \n",
       "2         10377         Temperatura            °C         706   \n",
       "3         10381    Umidità Relativa             %         706   \n",
       "4         10382  Radiazione Globale          W/m²         706   \n",
       "...         ...                 ...           ...         ...   \n",
       "1227       9869    Umidità Relativa             %         672   \n",
       "1228       9933      Precipitazione            mm         677   \n",
       "1229       9935  Radiazione Globale          W/m²         677   \n",
       "1230       9938         Temperatura            °C         677   \n",
       "1231       9939    Umidità Relativa             %         677   \n",
       "\n",
       "                      nomestazione quota provincia  datastart storico  \\\n",
       "0                   Ferno v.Di Dio   215        VA 2007-08-13       N   \n",
       "1                     Lecco v.Sora   272        LC 2008-07-22       N   \n",
       "2                     Lecco v.Sora   272        LC 2008-07-22       N   \n",
       "3                     Lecco v.Sora   272        LC 2008-07-22       N   \n",
       "4                     Lecco v.Sora   272        LC 2008-07-31       N   \n",
       "...                            ...   ...       ...        ...     ...   \n",
       "1227             Cornale v.Libertà    74        PV 2005-07-28       N   \n",
       "1228  Cremona Via Fatebenefratelli    43        CR 2006-04-10       N   \n",
       "1229  Cremona Via Fatebenefratelli    43        CR 2006-04-10       N   \n",
       "1230  Cremona Via Fatebenefratelli    43        CR 2006-04-10       N   \n",
       "1231  Cremona Via Fatebenefratelli    43        CR 2006-04-10       N   \n",
       "\n",
       "     cgb_nord cgb_est                 lng                lat  \\\n",
       "0     5051773  481053   8.756970445453431  45.61924377994763   \n",
       "1     5078987  531045   9.399950344681852  45.86374884127965   \n",
       "2     5078987  531045   9.399950344681852  45.86374884127965   \n",
       "3     5078987  531045   9.399950344681852  45.86374884127965   \n",
       "4     5078987  531045   9.399950344681852  45.86374884127965   \n",
       "...       ...     ...                 ...                ...   \n",
       "1227  4987406  493238   8.914144599002409  45.04007657202963   \n",
       "1228  4999315  582066  10.043836158369393  45.14254063221695   \n",
       "1229  4999315  582066  10.043836158369393  45.14254063221695   \n",
       "1230  4999315  582066  10.043836158369393  45.14254063221695   \n",
       "1231  4999315  582066  10.043836158369393  45.14254063221695   \n",
       "\n",
       "                                               location  \\\n",
       "0     {'latitude': '45.61924377994763', 'longitude':...   \n",
       "1     {'latitude': '45.86374884127965', 'longitude':...   \n",
       "2     {'latitude': '45.86374884127965', 'longitude':...   \n",
       "3     {'latitude': '45.86374884127965', 'longitude':...   \n",
       "4     {'latitude': '45.86374884127965', 'longitude':...   \n",
       "...                                                 ...   \n",
       "1227  {'latitude': '45.04007657202963', 'longitude':...   \n",
       "1228  {'latitude': '45.14254063221695', 'longitude':...   \n",
       "1229  {'latitude': '45.14254063221695', 'longitude':...   \n",
       "1230  {'latitude': '45.14254063221695', 'longitude':...   \n",
       "1231  {'latitude': '45.14254063221695', 'longitude':...   \n",
       "\n",
       "     :@computed_region_6hky_swhk :@computed_region_ttgh_9sm5 datastop  \n",
       "0                              1                           1      NaT  \n",
       "1                             10                          10      NaT  \n",
       "2                             10                          10      NaT  \n",
       "3                             10                          10      NaT  \n",
       "4                             10                          10      NaT  \n",
       "...                          ...                         ...      ...  \n",
       "1227                           7                           7      NaT  \n",
       "1228                           8                           8      NaT  \n",
       "1229                           8                           8      NaT  \n",
       "1230                           8                           8      NaT  \n",
       "1231                           8                           8      NaT  \n",
       "\n",
       "[1232 rows x 17 columns]"
      ]
     },
     "execution_count": 32,
     "metadata": {},
     "output_type": "execute_result"
    }
   ],
   "source": [
    "sensors_df"
   ]
  },
  {
   "cell_type": "code",
   "execution_count": 33,
   "metadata": {},
   "outputs": [
    {
     "data": {
      "text/html": [
       "<div>\n",
       "<style scoped>\n",
       "    .dataframe tbody tr th:only-of-type {\n",
       "        vertical-align: middle;\n",
       "    }\n",
       "\n",
       "    .dataframe tbody tr th {\n",
       "        vertical-align: top;\n",
       "    }\n",
       "\n",
       "    .dataframe thead th {\n",
       "        text-align: right;\n",
       "    }\n",
       "</style>\n",
       "<table border=\"1\" class=\"dataframe\">\n",
       "  <thead>\n",
       "    <tr style=\"text-align: right;\">\n",
       "      <th></th>\n",
       "      <th>idsensore</th>\n",
       "      <th>data</th>\n",
       "      <th>valore</th>\n",
       "    </tr>\n",
       "  </thead>\n",
       "  <tbody>\n",
       "    <tr>\n",
       "      <th>0</th>\n",
       "      <td>53</td>\n",
       "      <td>2022-05-31</td>\n",
       "      <td>9.300181</td>\n",
       "    </tr>\n",
       "    <tr>\n",
       "      <th>1</th>\n",
       "      <td>53</td>\n",
       "      <td>2022-06-30</td>\n",
       "      <td>13.248206</td>\n",
       "    </tr>\n",
       "    <tr>\n",
       "      <th>2</th>\n",
       "      <td>115</td>\n",
       "      <td>2022-05-31</td>\n",
       "      <td>8.393917</td>\n",
       "    </tr>\n",
       "    <tr>\n",
       "      <th>3</th>\n",
       "      <td>115</td>\n",
       "      <td>2022-06-30</td>\n",
       "      <td>12.771381</td>\n",
       "    </tr>\n",
       "    <tr>\n",
       "      <th>4</th>\n",
       "      <td>121</td>\n",
       "      <td>2022-05-31</td>\n",
       "      <td>16.341272</td>\n",
       "    </tr>\n",
       "    <tr>\n",
       "      <th>...</th>\n",
       "      <td>...</td>\n",
       "      <td>...</td>\n",
       "      <td>...</td>\n",
       "    </tr>\n",
       "    <tr>\n",
       "      <th>387</th>\n",
       "      <td>32370</td>\n",
       "      <td>2022-06-30</td>\n",
       "      <td>17.943569</td>\n",
       "    </tr>\n",
       "    <tr>\n",
       "      <th>388</th>\n",
       "      <td>32391</td>\n",
       "      <td>2022-05-31</td>\n",
       "      <td>19.621934</td>\n",
       "    </tr>\n",
       "    <tr>\n",
       "      <th>389</th>\n",
       "      <td>32391</td>\n",
       "      <td>2022-06-30</td>\n",
       "      <td>24.457305</td>\n",
       "    </tr>\n",
       "    <tr>\n",
       "      <th>390</th>\n",
       "      <td>32401</td>\n",
       "      <td>2022-05-31</td>\n",
       "      <td>9.437875</td>\n",
       "    </tr>\n",
       "    <tr>\n",
       "      <th>391</th>\n",
       "      <td>32401</td>\n",
       "      <td>2022-06-30</td>\n",
       "      <td>13.869400</td>\n",
       "    </tr>\n",
       "  </tbody>\n",
       "</table>\n",
       "<p>392 rows × 3 columns</p>\n",
       "</div>"
      ],
      "text/plain": [
       "     idsensore       data     valore\n",
       "0           53 2022-05-31   9.300181\n",
       "1           53 2022-06-30  13.248206\n",
       "2          115 2022-05-31   8.393917\n",
       "3          115 2022-06-30  12.771381\n",
       "4          121 2022-05-31  16.341272\n",
       "..         ...        ...        ...\n",
       "387      32370 2022-06-30  17.943569\n",
       "388      32391 2022-05-31  19.621934\n",
       "389      32391 2022-06-30  24.457305\n",
       "390      32401 2022-05-31   9.437875\n",
       "391      32401 2022-06-30  13.869400\n",
       "\n",
       "[392 rows x 3 columns]"
      ]
     },
     "execution_count": 33,
     "metadata": {},
     "output_type": "execute_result"
    }
   ],
   "source": [
    "sensor_test_agg"
   ]
  },
  {
   "cell_type": "code",
   "execution_count": 34,
   "metadata": {},
   "outputs": [],
   "source": [
    "merged_df = pd.merge(sensor_test_agg, sensors_df, on='idsensore')"
   ]
  },
  {
   "cell_type": "code",
   "execution_count": 35,
   "metadata": {},
   "outputs": [
    {
     "data": {
      "text/html": [
       "<div>\n",
       "<style scoped>\n",
       "    .dataframe tbody tr th:only-of-type {\n",
       "        vertical-align: middle;\n",
       "    }\n",
       "\n",
       "    .dataframe tbody tr th {\n",
       "        vertical-align: top;\n",
       "    }\n",
       "\n",
       "    .dataframe thead th {\n",
       "        text-align: right;\n",
       "    }\n",
       "</style>\n",
       "<table border=\"1\" class=\"dataframe\">\n",
       "  <thead>\n",
       "    <tr style=\"text-align: right;\">\n",
       "      <th></th>\n",
       "      <th>idsensore</th>\n",
       "      <th>data</th>\n",
       "      <th>valore</th>\n",
       "      <th>tipologia</th>\n",
       "      <th>unit_dimisura</th>\n",
       "      <th>idstazione</th>\n",
       "      <th>nomestazione</th>\n",
       "      <th>quota</th>\n",
       "      <th>provincia</th>\n",
       "      <th>datastart</th>\n",
       "      <th>storico</th>\n",
       "      <th>cgb_nord</th>\n",
       "      <th>cgb_est</th>\n",
       "      <th>lng</th>\n",
       "      <th>lat</th>\n",
       "      <th>location</th>\n",
       "      <th>:@computed_region_6hky_swhk</th>\n",
       "      <th>:@computed_region_ttgh_9sm5</th>\n",
       "      <th>datastop</th>\n",
       "    </tr>\n",
       "  </thead>\n",
       "  <tbody>\n",
       "    <tr>\n",
       "      <th>0</th>\n",
       "      <td>53</td>\n",
       "      <td>2022-05-31</td>\n",
       "      <td>9.300181</td>\n",
       "      <td>Temperatura</td>\n",
       "      <td>°C</td>\n",
       "      <td>28</td>\n",
       "      <td>Chiesa in Valmalenco Alpe Entova</td>\n",
       "      <td>1905</td>\n",
       "      <td>SO</td>\n",
       "      <td>1989-10-28</td>\n",
       "      <td>N</td>\n",
       "      <td>5130098</td>\n",
       "      <td>564213</td>\n",
       "      <td>9.834123382219671</td>\n",
       "      <td>46.32141528836431</td>\n",
       "      <td>{'latitude': '46.32141528836431', 'longitude':...</td>\n",
       "      <td>3</td>\n",
       "      <td>3</td>\n",
       "      <td>NaT</td>\n",
       "    </tr>\n",
       "    <tr>\n",
       "      <th>1</th>\n",
       "      <td>53</td>\n",
       "      <td>2022-06-30</td>\n",
       "      <td>13.248206</td>\n",
       "      <td>Temperatura</td>\n",
       "      <td>°C</td>\n",
       "      <td>28</td>\n",
       "      <td>Chiesa in Valmalenco Alpe Entova</td>\n",
       "      <td>1905</td>\n",
       "      <td>SO</td>\n",
       "      <td>1989-10-28</td>\n",
       "      <td>N</td>\n",
       "      <td>5130098</td>\n",
       "      <td>564213</td>\n",
       "      <td>9.834123382219671</td>\n",
       "      <td>46.32141528836431</td>\n",
       "      <td>{'latitude': '46.32141528836431', 'longitude':...</td>\n",
       "      <td>3</td>\n",
       "      <td>3</td>\n",
       "      <td>NaT</td>\n",
       "    </tr>\n",
       "    <tr>\n",
       "      <th>2</th>\n",
       "      <td>115</td>\n",
       "      <td>2022-05-31</td>\n",
       "      <td>8.393917</td>\n",
       "      <td>Temperatura</td>\n",
       "      <td>°C</td>\n",
       "      <td>58</td>\n",
       "      <td>Carona Lago Fregabolgia</td>\n",
       "      <td>1955</td>\n",
       "      <td>BG</td>\n",
       "      <td>2001-12-01</td>\n",
       "      <td>N</td>\n",
       "      <td>5097125</td>\n",
       "      <td>566799</td>\n",
       "      <td>9.863057198828766</td>\n",
       "      <td>46.02443987306136</td>\n",
       "      <td>{'latitude': '46.02443987306136', 'longitude':...</td>\n",
       "      <td>5</td>\n",
       "      <td>5</td>\n",
       "      <td>NaT</td>\n",
       "    </tr>\n",
       "    <tr>\n",
       "      <th>3</th>\n",
       "      <td>115</td>\n",
       "      <td>2022-06-30</td>\n",
       "      <td>12.771381</td>\n",
       "      <td>Temperatura</td>\n",
       "      <td>°C</td>\n",
       "      <td>58</td>\n",
       "      <td>Carona Lago Fregabolgia</td>\n",
       "      <td>1955</td>\n",
       "      <td>BG</td>\n",
       "      <td>2001-12-01</td>\n",
       "      <td>N</td>\n",
       "      <td>5097125</td>\n",
       "      <td>566799</td>\n",
       "      <td>9.863057198828766</td>\n",
       "      <td>46.02443987306136</td>\n",
       "      <td>{'latitude': '46.02443987306136', 'longitude':...</td>\n",
       "      <td>5</td>\n",
       "      <td>5</td>\n",
       "      <td>NaT</td>\n",
       "    </tr>\n",
       "    <tr>\n",
       "      <th>4</th>\n",
       "      <td>121</td>\n",
       "      <td>2022-05-31</td>\n",
       "      <td>16.341272</td>\n",
       "      <td>Temperatura</td>\n",
       "      <td>°C</td>\n",
       "      <td>60</td>\n",
       "      <td>Villa di Chiavenna</td>\n",
       "      <td>665</td>\n",
       "      <td>SO</td>\n",
       "      <td>2002-11-20</td>\n",
       "      <td>N</td>\n",
       "      <td>5131062</td>\n",
       "      <td>539410</td>\n",
       "      <td>9.512031889439431</td>\n",
       "      <td>46.33198716063755</td>\n",
       "      <td>{'latitude': '46.33198716063755', 'longitude':...</td>\n",
       "      <td>3</td>\n",
       "      <td>3</td>\n",
       "      <td>NaT</td>\n",
       "    </tr>\n",
       "    <tr>\n",
       "      <th>...</th>\n",
       "      <td>...</td>\n",
       "      <td>...</td>\n",
       "      <td>...</td>\n",
       "      <td>...</td>\n",
       "      <td>...</td>\n",
       "      <td>...</td>\n",
       "      <td>...</td>\n",
       "      <td>...</td>\n",
       "      <td>...</td>\n",
       "      <td>...</td>\n",
       "      <td>...</td>\n",
       "      <td>...</td>\n",
       "      <td>...</td>\n",
       "      <td>...</td>\n",
       "      <td>...</td>\n",
       "      <td>...</td>\n",
       "      <td>...</td>\n",
       "      <td>...</td>\n",
       "      <td>...</td>\n",
       "    </tr>\n",
       "    <tr>\n",
       "      <th>387</th>\n",
       "      <td>32370</td>\n",
       "      <td>2022-06-30</td>\n",
       "      <td>17.943569</td>\n",
       "      <td>Temperatura</td>\n",
       "      <td>°C</td>\n",
       "      <td>1679</td>\n",
       "      <td>Sormano rifugio Alpetto</td>\n",
       "      <td>1158</td>\n",
       "      <td>CO</td>\n",
       "      <td>2017-11-23</td>\n",
       "      <td>N</td>\n",
       "      <td>5083535</td>\n",
       "      <td>518233</td>\n",
       "      <td>9.235068813288406</td>\n",
       "      <td>45.90514139039166</td>\n",
       "      <td>{'latitude': '45.90514139039166', 'longitude':...</td>\n",
       "      <td>2</td>\n",
       "      <td>2</td>\n",
       "      <td>NaT</td>\n",
       "    </tr>\n",
       "    <tr>\n",
       "      <th>388</th>\n",
       "      <td>32391</td>\n",
       "      <td>2022-05-31</td>\n",
       "      <td>19.621934</td>\n",
       "      <td>Temperatura</td>\n",
       "      <td>°C</td>\n",
       "      <td>1555</td>\n",
       "      <td>Manerba del Garda Dusano</td>\n",
       "      <td>73</td>\n",
       "      <td>BS</td>\n",
       "      <td>2017-11-15</td>\n",
       "      <td>N</td>\n",
       "      <td>5044545</td>\n",
       "      <td>622300</td>\n",
       "      <td>10.566619674481315</td>\n",
       "      <td>45.54369941034534</td>\n",
       "      <td>{'latitude': '45.54369941034534', 'longitude':...</td>\n",
       "      <td>6</td>\n",
       "      <td>6</td>\n",
       "      <td>NaT</td>\n",
       "    </tr>\n",
       "    <tr>\n",
       "      <th>389</th>\n",
       "      <td>32391</td>\n",
       "      <td>2022-06-30</td>\n",
       "      <td>24.457305</td>\n",
       "      <td>Temperatura</td>\n",
       "      <td>°C</td>\n",
       "      <td>1555</td>\n",
       "      <td>Manerba del Garda Dusano</td>\n",
       "      <td>73</td>\n",
       "      <td>BS</td>\n",
       "      <td>2017-11-15</td>\n",
       "      <td>N</td>\n",
       "      <td>5044545</td>\n",
       "      <td>622300</td>\n",
       "      <td>10.566619674481315</td>\n",
       "      <td>45.54369941034534</td>\n",
       "      <td>{'latitude': '45.54369941034534', 'longitude':...</td>\n",
       "      <td>6</td>\n",
       "      <td>6</td>\n",
       "      <td>NaT</td>\n",
       "    </tr>\n",
       "    <tr>\n",
       "      <th>390</th>\n",
       "      <td>32401</td>\n",
       "      <td>2022-05-31</td>\n",
       "      <td>9.437875</td>\n",
       "      <td>Temperatura</td>\n",
       "      <td>°C</td>\n",
       "      <td>1680</td>\n",
       "      <td>Vilminore di Scalve Presolana</td>\n",
       "      <td>1856</td>\n",
       "      <td>BG</td>\n",
       "      <td>2017-11-15</td>\n",
       "      <td>N</td>\n",
       "      <td>5092483</td>\n",
       "      <td>580679</td>\n",
       "      <td>10.041578002405918</td>\n",
       "      <td>45.98117244427475</td>\n",
       "      <td>{'latitude': '45.98117244427475', 'longitude':...</td>\n",
       "      <td>5</td>\n",
       "      <td>5</td>\n",
       "      <td>NaT</td>\n",
       "    </tr>\n",
       "    <tr>\n",
       "      <th>391</th>\n",
       "      <td>32401</td>\n",
       "      <td>2022-06-30</td>\n",
       "      <td>13.869400</td>\n",
       "      <td>Temperatura</td>\n",
       "      <td>°C</td>\n",
       "      <td>1680</td>\n",
       "      <td>Vilminore di Scalve Presolana</td>\n",
       "      <td>1856</td>\n",
       "      <td>BG</td>\n",
       "      <td>2017-11-15</td>\n",
       "      <td>N</td>\n",
       "      <td>5092483</td>\n",
       "      <td>580679</td>\n",
       "      <td>10.041578002405918</td>\n",
       "      <td>45.98117244427475</td>\n",
       "      <td>{'latitude': '45.98117244427475', 'longitude':...</td>\n",
       "      <td>5</td>\n",
       "      <td>5</td>\n",
       "      <td>NaT</td>\n",
       "    </tr>\n",
       "  </tbody>\n",
       "</table>\n",
       "<p>392 rows × 19 columns</p>\n",
       "</div>"
      ],
      "text/plain": [
       "     idsensore       data     valore    tipologia unit_dimisura  idstazione  \\\n",
       "0           53 2022-05-31   9.300181  Temperatura            °C          28   \n",
       "1           53 2022-06-30  13.248206  Temperatura            °C          28   \n",
       "2          115 2022-05-31   8.393917  Temperatura            °C          58   \n",
       "3          115 2022-06-30  12.771381  Temperatura            °C          58   \n",
       "4          121 2022-05-31  16.341272  Temperatura            °C          60   \n",
       "..         ...        ...        ...          ...           ...         ...   \n",
       "387      32370 2022-06-30  17.943569  Temperatura            °C        1679   \n",
       "388      32391 2022-05-31  19.621934  Temperatura            °C        1555   \n",
       "389      32391 2022-06-30  24.457305  Temperatura            °C        1555   \n",
       "390      32401 2022-05-31   9.437875  Temperatura            °C        1680   \n",
       "391      32401 2022-06-30  13.869400  Temperatura            °C        1680   \n",
       "\n",
       "                         nomestazione quota provincia  datastart storico  \\\n",
       "0    Chiesa in Valmalenco Alpe Entova  1905        SO 1989-10-28       N   \n",
       "1    Chiesa in Valmalenco Alpe Entova  1905        SO 1989-10-28       N   \n",
       "2             Carona Lago Fregabolgia  1955        BG 2001-12-01       N   \n",
       "3             Carona Lago Fregabolgia  1955        BG 2001-12-01       N   \n",
       "4                  Villa di Chiavenna   665        SO 2002-11-20       N   \n",
       "..                                ...   ...       ...        ...     ...   \n",
       "387           Sormano rifugio Alpetto  1158        CO 2017-11-23       N   \n",
       "388          Manerba del Garda Dusano    73        BS 2017-11-15       N   \n",
       "389          Manerba del Garda Dusano    73        BS 2017-11-15       N   \n",
       "390     Vilminore di Scalve Presolana  1856        BG 2017-11-15       N   \n",
       "391     Vilminore di Scalve Presolana  1856        BG 2017-11-15       N   \n",
       "\n",
       "    cgb_nord cgb_est                 lng                lat  \\\n",
       "0    5130098  564213   9.834123382219671  46.32141528836431   \n",
       "1    5130098  564213   9.834123382219671  46.32141528836431   \n",
       "2    5097125  566799   9.863057198828766  46.02443987306136   \n",
       "3    5097125  566799   9.863057198828766  46.02443987306136   \n",
       "4    5131062  539410   9.512031889439431  46.33198716063755   \n",
       "..       ...     ...                 ...                ...   \n",
       "387  5083535  518233   9.235068813288406  45.90514139039166   \n",
       "388  5044545  622300  10.566619674481315  45.54369941034534   \n",
       "389  5044545  622300  10.566619674481315  45.54369941034534   \n",
       "390  5092483  580679  10.041578002405918  45.98117244427475   \n",
       "391  5092483  580679  10.041578002405918  45.98117244427475   \n",
       "\n",
       "                                              location  \\\n",
       "0    {'latitude': '46.32141528836431', 'longitude':...   \n",
       "1    {'latitude': '46.32141528836431', 'longitude':...   \n",
       "2    {'latitude': '46.02443987306136', 'longitude':...   \n",
       "3    {'latitude': '46.02443987306136', 'longitude':...   \n",
       "4    {'latitude': '46.33198716063755', 'longitude':...   \n",
       "..                                                 ...   \n",
       "387  {'latitude': '45.90514139039166', 'longitude':...   \n",
       "388  {'latitude': '45.54369941034534', 'longitude':...   \n",
       "389  {'latitude': '45.54369941034534', 'longitude':...   \n",
       "390  {'latitude': '45.98117244427475', 'longitude':...   \n",
       "391  {'latitude': '45.98117244427475', 'longitude':...   \n",
       "\n",
       "    :@computed_region_6hky_swhk :@computed_region_ttgh_9sm5 datastop  \n",
       "0                             3                           3      NaT  \n",
       "1                             3                           3      NaT  \n",
       "2                             5                           5      NaT  \n",
       "3                             5                           5      NaT  \n",
       "4                             3                           3      NaT  \n",
       "..                          ...                         ...      ...  \n",
       "387                           2                           2      NaT  \n",
       "388                           6                           6      NaT  \n",
       "389                           6                           6      NaT  \n",
       "390                           5                           5      NaT  \n",
       "391                           5                           5      NaT  \n",
       "\n",
       "[392 rows x 19 columns]"
      ]
     },
     "execution_count": 35,
     "metadata": {},
     "output_type": "execute_result"
    }
   ],
   "source": [
    "merged_df"
   ]
  },
  {
   "cell_type": "code",
   "execution_count": 36,
   "metadata": {},
   "outputs": [],
   "source": [
    "measure_unit = merged_df['unit_dimisura'].unique()[0]"
   ]
  },
  {
   "cell_type": "code",
   "execution_count": 37,
   "metadata": {},
   "outputs": [
    {
     "data": {
      "text/plain": [
       "'°C'"
      ]
     },
     "execution_count": 37,
     "metadata": {},
     "output_type": "execute_result"
    }
   ],
   "source": [
    "measure_unit"
   ]
  },
  {
   "cell_type": "code",
   "execution_count": 38,
   "metadata": {},
   "outputs": [
    {
     "data": {
      "text/plain": [
       "idsensore                                                                  14221\n",
       "data                                                         2022-05-31 00:00:00\n",
       "valore                                                                  2.362818\n",
       "tipologia                                                            Temperatura\n",
       "unit_dimisura                                                                 °C\n",
       "idstazione                                                                  1343\n",
       "nomestazione                                             Lanzada Passo Marinelli\n",
       "quota                                                                       3032\n",
       "provincia                                                                     SO\n",
       "datastart                                                    2012-10-13 00:00:00\n",
       "storico                                                                        N\n",
       "cgb_nord                                                                 5133321\n",
       "cgb_est                                                                   570414\n",
       "lng                                                            9.915147774061634\n",
       "lat                                                            46.34980205020121\n",
       "location                       {'latitude': '46.34980205020121', 'longitude':...\n",
       ":@computed_region_6hky_swhk                                                    3\n",
       ":@computed_region_ttgh_9sm5                                                    3\n",
       "datastop                                                                     NaT\n",
       "Name: 286, dtype: object"
      ]
     },
     "execution_count": 38,
     "metadata": {},
     "output_type": "execute_result"
    }
   ],
   "source": [
    "min_index = merged_df['valore'].idxmin()\n",
    "merged_df.loc[min_index]"
   ]
  },
  {
   "cell_type": "markdown",
   "metadata": {
    "tags": []
   },
   "source": [
    "## Test and plotting"
   ]
  },
  {
   "cell_type": "markdown",
   "metadata": {},
   "source": [
    "Select a specific sensor:"
   ]
  },
  {
   "cell_type": "code",
   "execution_count": 47,
   "metadata": {},
   "outputs": [],
   "source": [
    "sel_sensor = sensor_test_agg.loc[sensor_test_agg['idsensore']== 14221]"
   ]
  },
  {
   "cell_type": "code",
   "execution_count": 48,
   "metadata": {},
   "outputs": [
    {
     "data": {
      "text/plain": [
       "[<matplotlib.lines.Line2D at 0x1fa057c3b20>]"
      ]
     },
     "execution_count": 48,
     "metadata": {},
     "output_type": "execute_result"
    },
    {
     "data": {
      "image/png": "[encoded data removed]",
      "text/plain": [
       "<Figure size 1500x800 with 1 Axes>"
      ]
     },
     "metadata": {},
     "output_type": "display_data"
    }
   ],
   "source": [
    "import matplotlib.pyplot as plt\n",
    "from matplotlib.ticker import (MultipleLocator, FormatStrFormatter,AutoMinorLocator)\n",
    "import matplotlib.dates as mdates\n",
    "\n",
    "plt.figure(figsize=(15,8))\n",
    "plt.gca().xaxis.set_major_formatter(mdates.DateFormatter('%Y-%m-%d %H:%M:%S'))\n",
    "plt.gca().xaxis.set_major_locator(mdates.DayLocator())\n",
    "\n",
    "plt.gca().xaxis.set_major_locator(mdates.DayLocator(interval=3))\n",
    "plt.gcf().autofmt_xdate()\n",
    "plt.xticks(rotation=90)\n",
    "plt.plot(sel_sensor['data'],sel_sensor['valore'], '-',  marker='o')"
   ]
  },
  {
   "cell_type": "code",
   "execution_count": 41,
   "metadata": {},
   "outputs": [],
   "source": [
    "import matplotlib.pyplot as plt\n",
    "import geopandas as gpd \n",
    "import numpy as np\n",
    "from shapely.geometry import box\n",
    "from scipy.interpolate import griddata"
   ]
  },
  {
   "cell_type": "code",
   "execution_count": 42,
   "metadata": {},
   "outputs": [],
   "source": [
    "gdf = gpd.GeoDataFrame(merged_df, geometry=gpd.points_from_xy(merged_df.cgb_est, merged_df.cgb_nord), crs=\"EPSG:32632\")"
   ]
  },
  {
   "cell_type": "code",
   "execution_count": 43,
   "metadata": {},
   "outputs": [
    {
     "data": {
      "text/html": [
       "<div>\n",
       "<style scoped>\n",
       "    .dataframe tbody tr th:only-of-type {\n",
       "        vertical-align: middle;\n",
       "    }\n",
       "\n",
       "    .dataframe tbody tr th {\n",
       "        vertical-align: top;\n",
       "    }\n",
       "\n",
       "    .dataframe thead th {\n",
       "        text-align: right;\n",
       "    }\n",
       "</style>\n",
       "<table border=\"1\" class=\"dataframe\">\n",
       "  <thead>\n",
       "    <tr style=\"text-align: right;\">\n",
       "      <th></th>\n",
       "      <th>CODICE</th>\n",
       "      <th>NOME</th>\n",
       "      <th>SHAPE_AREA</th>\n",
       "      <th>SHAPE_LEN</th>\n",
       "      <th>aoi</th>\n",
       "      <th>geometry</th>\n",
       "    </tr>\n",
       "  </thead>\n",
       "  <tbody>\n",
       "    <tr>\n",
       "      <th>0</th>\n",
       "      <td>03</td>\n",
       "      <td>LOMBARDIA</td>\n",
       "      <td>2.386817e+10</td>\n",
       "      <td>1.535107e+06</td>\n",
       "      <td>1</td>\n",
       "      <td>MULTIPOLYGON (((542922.180 4997980.940, 542919...</td>\n",
       "    </tr>\n",
       "  </tbody>\n",
       "</table>\n",
       "</div>"
      ],
      "text/plain": [
       "  CODICE       NOME    SHAPE_AREA     SHAPE_LEN  aoi  \\\n",
       "0     03  LOMBARDIA  2.386817e+10  1.535107e+06    1   \n",
       "\n",
       "                                            geometry  \n",
       "0  MULTIPOLYGON (((542922.180 4997980.940, 542919...  "
      ]
     },
     "execution_count": 43,
     "metadata": {},
     "output_type": "execute_result"
    }
   ],
   "source": [
    "lombardy_gdf = gpd.read_file('lombardia_boundary.gpkg')\n",
    "lombardy_gdf"
   ]
  },
  {
   "cell_type": "code",
   "execution_count": 44,
   "metadata": {},
   "outputs": [
    {
     "data": {
      "text/plain": [
       "Text(0.5, 173.14773259505725, 'East [m]')"
      ]
     },
     "execution_count": 44,
     "metadata": {},
     "output_type": "execute_result"
    },
    {
     "data": {
      "image/png": "[encoded data removed]",
      "text/plain": [
       "<Figure size 1000x1000 with 2 Axes>"
      ]
     },
     "metadata": {},
     "output_type": "display_data"
    }
   ],
   "source": [
    "fig, ax = plt.subplots(figsize = (10,10))\n",
    "gdf.plot(ax=ax, markersize=20, column='valore', legend=True, cmap='OrRd', legend_kwds={'label': measure_unit ,'orientation': \"vertical\"});\n",
    "lombardy_gdf.boundary.plot(ax=ax);\n",
    "ax.set_title('ARPA Lombardia Sensors - '+ sensor_sel,fontdict = {'fontsize': 10})\n",
    "ax.set_ylabel('North [m]',fontdict = {'fontsize': 10})\n",
    "ax.set_xlabel('East [m]',fontdict = {'fontsize': 10})"
   ]
  },
  {
   "cell_type": "markdown",
   "metadata": {},
   "source": [
    "## Other useful functions"
   ]
  },
  {
   "cell_type": "code",
   "execution_count": 45,
   "metadata": {},
   "outputs": [],
   "source": [
    "# def remove_csv_file(filename):\n",
    "#     if os.path.exists(filename):\n",
    "#         print(\"Csv file removed from folder\")\n",
    "#         os.remove(filename)\n",
    "#     else:\n",
    "#         print(\"The file does not exist\")"
   ]
  },
  {
   "cell_type": "code",
   "execution_count": 46,
   "metadata": {},
   "outputs": [],
   "source": [
    "# remove_csv_file(csv_file)"
   ]
  }
 ],
 "metadata": {
  "colab": {
   "provenance": []
  },
  "kernelspec": {
   "display_name": "Python 3 (ipykernel)",
   "language": "python",
   "name": "python3"
  },
  "language_info": {
   "codemirror_mode": {
    "name": "ipython",
    "version": 3
   },
   "file_extension": ".py",
   "mimetype": "text/x-python",
   "name": "python",
   "nbconvert_exporter": "python",
   "pygments_lexer": "ipython3",
   "version": "3.8.15"
  },
  "vscode": {
   "interpreter": {
    "hash": "1a884f121133f7e48c0fb0d37d096822567e6dace2ca2327981e34c414aeb97b"
   }
  }
 },
 "nbformat": 4,
 "nbformat_minor": 4
}
