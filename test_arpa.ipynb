{
 "cells": [
  {
   "attachments": {
    "4bce9d53-93b0-462d-9403-47bc99e1bc35.png": {
     "image/png": "[encoded data removed]"
    }
   },
   "cell_type": "markdown",
   "metadata": {
    "id": "ieKff42Du_uf"
   },
   "source": [
    "# ARPA Weather Station Data\n",
    "This notebook is used for:\n",
    "1) testing ARPA API functionalities\n",
    "2) testing functions to be implemented in the plugin\n",
    "3) testing libraries to be used and evaluate performances\n",
    "\n",
    "First, it is necessary to get a token.\n",
    "Go to Open Data Lombardia website (https://dati.lombardia.it/). Subscribe to the website and go to your profile settings. <br>\n",
    "![image.png](attachment:4bce9d53-93b0-462d-9403-47bc99e1bc35.png) <br>\n",
    "Modify your profile and open the \"Opzioni per lo sviluppatore\" tab. Create a new App Token to be used.\n",
    "\n",
    "\n",
    "Useful notebook for Sodapy: https://github.com/xmunoz/sodapy/blob/master/examples/soql_queries.py"
   ]
  },
  {
   "cell_type": "code",
   "execution_count": 1,
   "metadata": {
    "colab": {
     "base_uri": "https://localhost:8080/",
     "height": 223
    },
    "executionInfo": {
     "elapsed": 266,
     "status": "error",
     "timestamp": 1673873146302,
     "user": {
      "displayName": "geolab como",
      "userId": "12419660887110986186"
     },
     "user_tz": -60
    },
    "id": "CWWE66sl02vk",
    "outputId": "51b5575c-1d89-4077-ae00-e0b277c0cb72"
   },
   "outputs": [],
   "source": [
    "arpa_token = \"riTLzYVRVdDaQtUkxDDaHRgJi\" "
   ]
  },
  {
   "cell_type": "code",
   "execution_count": 2,
   "metadata": {
    "colab": {
     "base_uri": "https://localhost:8080/"
    },
    "executionInfo": {
     "elapsed": 370,
     "status": "ok",
     "timestamp": 1673608983215,
     "user": {
      "displayName": "Emanuele Capizzi",
      "userId": "03450198425113630983"
     },
     "user_tz": -60
    },
    "id": "CAGkrs1G3lYz",
    "outputId": "f3e099a8-79c4-4480-f969-049c50443398"
   },
   "outputs": [
    {
     "name": "stdout",
     "output_type": "stream",
     "text": [
      "riTLzYVRVdDaQtUkxDDaHRgJi\n"
     ]
    }
   ],
   "source": [
    "print(arpa_token)"
   ]
  },
  {
   "cell_type": "markdown",
   "metadata": {},
   "source": [
    "Pandas va installato anche se si installa prima Dask"
   ]
  },
  {
   "cell_type": "code",
   "execution_count": 3,
   "metadata": {
    "id": "vIYOzSgg1Sji"
   },
   "outputs": [],
   "source": [
    "from sodapy import Socrata\n",
    "import pandas as pd\n",
    "from datetime import datetime, timedelta\n",
    "import requests\n",
    "from io import BytesIO\n",
    "from zipfile import ZipFile\n",
    "import os\n",
    "import time\n",
    "import dask.dataframe as dd"
   ]
  },
  {
   "cell_type": "code",
   "execution_count": 4,
   "metadata": {
    "id": "7UMOzRow2thG"
   },
   "outputs": [],
   "source": [
    "stationsId = \"nf78-nj6b\" # Select meteo stations dataset containing positions and information about sensors"
   ]
  },
  {
   "cell_type": "code",
   "execution_count": 5,
   "metadata": {
    "id": "A-QQ02TQ1r2h"
   },
   "outputs": [],
   "source": [
    "def connect_ARPA_api(token):\n",
    "    \"\"\"\n",
    "    Function to connect to ARPA API.\n",
    "\n",
    "        Parameters:\n",
    "            - token (str): the ARPA token obtained from Open Data Lombardia website\n",
    "\n",
    "        Returns:\n",
    "            - client: client session\n",
    "            \n",
    "    \"\"\"\n",
    "    client = Socrata(\"www.dati.lombardia.it\", app_token=token)\n",
    "\n",
    "    return client\n",
    "\n",
    "\n",
    "client = connect_ARPA_api(arpa_token)\n",
    "stations_info = client.get_all(stationsId)"
   ]
  },
  {
   "cell_type": "code",
   "execution_count": 6,
   "metadata": {
    "colab": {
     "base_uri": "https://localhost:8080/",
     "height": 835
    },
    "executionInfo": {
     "elapsed": 1484,
     "status": "ok",
     "timestamp": 1673610188336,
     "user": {
      "displayName": "Emanuele Capizzi",
      "userId": "03450198425113630983"
     },
     "user_tz": -60
    },
    "id": "A5DpwCHi3s0a",
    "outputId": "6dac4598-a380-4087-faec-8be1459f5337"
   },
   "outputs": [
    {
     "data": {
      "text/html": [
       "<div>\n",
       "<style scoped>\n",
       "    .dataframe tbody tr th:only-of-type {\n",
       "        vertical-align: middle;\n",
       "    }\n",
       "\n",
       "    .dataframe tbody tr th {\n",
       "        vertical-align: top;\n",
       "    }\n",
       "\n",
       "    .dataframe thead th {\n",
       "        text-align: right;\n",
       "    }\n",
       "</style>\n",
       "<table border=\"1\" class=\"dataframe\">\n",
       "  <thead>\n",
       "    <tr style=\"text-align: right;\">\n",
       "      <th></th>\n",
       "      <th>idsensore</th>\n",
       "      <th>tipologia</th>\n",
       "      <th>unit_dimisura</th>\n",
       "      <th>idstazione</th>\n",
       "      <th>nomestazione</th>\n",
       "      <th>quota</th>\n",
       "      <th>provincia</th>\n",
       "      <th>datastart</th>\n",
       "      <th>storico</th>\n",
       "      <th>cgb_nord</th>\n",
       "      <th>cgb_est</th>\n",
       "      <th>lng</th>\n",
       "      <th>lat</th>\n",
       "      <th>location</th>\n",
       "      <th>:@computed_region_6hky_swhk</th>\n",
       "      <th>:@computed_region_ttgh_9sm5</th>\n",
       "      <th>datastop</th>\n",
       "    </tr>\n",
       "  </thead>\n",
       "  <tbody>\n",
       "    <tr>\n",
       "      <th>0</th>\n",
       "      <td>10373</td>\n",
       "      <td>Precipitazione</td>\n",
       "      <td>mm</td>\n",
       "      <td>687</td>\n",
       "      <td>Ferno v.Di Dio</td>\n",
       "      <td>215</td>\n",
       "      <td>VA</td>\n",
       "      <td>2007-08-13T00:00:00.000</td>\n",
       "      <td>N</td>\n",
       "      <td>5051773</td>\n",
       "      <td>481053</td>\n",
       "      <td>8.756970445453431</td>\n",
       "      <td>45.61924377994763</td>\n",
       "      <td>{'latitude': '45.61924377994763', 'longitude':...</td>\n",
       "      <td>1</td>\n",
       "      <td>1</td>\n",
       "      <td>NaN</td>\n",
       "    </tr>\n",
       "    <tr>\n",
       "      <th>1</th>\n",
       "      <td>10376</td>\n",
       "      <td>Precipitazione</td>\n",
       "      <td>mm</td>\n",
       "      <td>706</td>\n",
       "      <td>Lecco v.Sora</td>\n",
       "      <td>272</td>\n",
       "      <td>LC</td>\n",
       "      <td>2008-07-22T00:00:00.000</td>\n",
       "      <td>N</td>\n",
       "      <td>5078987</td>\n",
       "      <td>531045</td>\n",
       "      <td>9.399950344681852</td>\n",
       "      <td>45.86374884127965</td>\n",
       "      <td>{'latitude': '45.86374884127965', 'longitude':...</td>\n",
       "      <td>10</td>\n",
       "      <td>10</td>\n",
       "      <td>NaN</td>\n",
       "    </tr>\n",
       "    <tr>\n",
       "      <th>2</th>\n",
       "      <td>10377</td>\n",
       "      <td>Temperatura</td>\n",
       "      <td>°C</td>\n",
       "      <td>706</td>\n",
       "      <td>Lecco v.Sora</td>\n",
       "      <td>272</td>\n",
       "      <td>LC</td>\n",
       "      <td>2008-07-22T00:00:00.000</td>\n",
       "      <td>N</td>\n",
       "      <td>5078987</td>\n",
       "      <td>531045</td>\n",
       "      <td>9.399950344681852</td>\n",
       "      <td>45.86374884127965</td>\n",
       "      <td>{'latitude': '45.86374884127965', 'longitude':...</td>\n",
       "      <td>10</td>\n",
       "      <td>10</td>\n",
       "      <td>NaN</td>\n",
       "    </tr>\n",
       "    <tr>\n",
       "      <th>3</th>\n",
       "      <td>10381</td>\n",
       "      <td>Umidità Relativa</td>\n",
       "      <td>%</td>\n",
       "      <td>706</td>\n",
       "      <td>Lecco v.Sora</td>\n",
       "      <td>272</td>\n",
       "      <td>LC</td>\n",
       "      <td>2008-07-22T00:00:00.000</td>\n",
       "      <td>N</td>\n",
       "      <td>5078987</td>\n",
       "      <td>531045</td>\n",
       "      <td>9.399950344681852</td>\n",
       "      <td>45.86374884127965</td>\n",
       "      <td>{'latitude': '45.86374884127965', 'longitude':...</td>\n",
       "      <td>10</td>\n",
       "      <td>10</td>\n",
       "      <td>NaN</td>\n",
       "    </tr>\n",
       "    <tr>\n",
       "      <th>4</th>\n",
       "      <td>10382</td>\n",
       "      <td>Radiazione Globale</td>\n",
       "      <td>W/m²</td>\n",
       "      <td>706</td>\n",
       "      <td>Lecco v.Sora</td>\n",
       "      <td>272</td>\n",
       "      <td>LC</td>\n",
       "      <td>2008-07-31T00:00:00.000</td>\n",
       "      <td>N</td>\n",
       "      <td>5078987</td>\n",
       "      <td>531045</td>\n",
       "      <td>9.399950344681852</td>\n",
       "      <td>45.86374884127965</td>\n",
       "      <td>{'latitude': '45.86374884127965', 'longitude':...</td>\n",
       "      <td>10</td>\n",
       "      <td>10</td>\n",
       "      <td>NaN</td>\n",
       "    </tr>\n",
       "    <tr>\n",
       "      <th>...</th>\n",
       "      <td>...</td>\n",
       "      <td>...</td>\n",
       "      <td>...</td>\n",
       "      <td>...</td>\n",
       "      <td>...</td>\n",
       "      <td>...</td>\n",
       "      <td>...</td>\n",
       "      <td>...</td>\n",
       "      <td>...</td>\n",
       "      <td>...</td>\n",
       "      <td>...</td>\n",
       "      <td>...</td>\n",
       "      <td>...</td>\n",
       "      <td>...</td>\n",
       "      <td>...</td>\n",
       "      <td>...</td>\n",
       "      <td>...</td>\n",
       "    </tr>\n",
       "    <tr>\n",
       "      <th>1227</th>\n",
       "      <td>9869</td>\n",
       "      <td>Umidità Relativa</td>\n",
       "      <td>%</td>\n",
       "      <td>672</td>\n",
       "      <td>Cornale v.Libertà</td>\n",
       "      <td>74</td>\n",
       "      <td>PV</td>\n",
       "      <td>2005-07-28T00:00:00.000</td>\n",
       "      <td>N</td>\n",
       "      <td>4987406</td>\n",
       "      <td>493238</td>\n",
       "      <td>8.914144599002409</td>\n",
       "      <td>45.04007657202963</td>\n",
       "      <td>{'latitude': '45.04007657202963', 'longitude':...</td>\n",
       "      <td>7</td>\n",
       "      <td>7</td>\n",
       "      <td>NaN</td>\n",
       "    </tr>\n",
       "    <tr>\n",
       "      <th>1228</th>\n",
       "      <td>9933</td>\n",
       "      <td>Precipitazione</td>\n",
       "      <td>mm</td>\n",
       "      <td>677</td>\n",
       "      <td>Cremona Via Fatebenefratelli</td>\n",
       "      <td>43</td>\n",
       "      <td>CR</td>\n",
       "      <td>2006-04-10T00:00:00.000</td>\n",
       "      <td>N</td>\n",
       "      <td>4999315</td>\n",
       "      <td>582066</td>\n",
       "      <td>10.043836158369393</td>\n",
       "      <td>45.14254063221695</td>\n",
       "      <td>{'latitude': '45.14254063221695', 'longitude':...</td>\n",
       "      <td>8</td>\n",
       "      <td>8</td>\n",
       "      <td>NaN</td>\n",
       "    </tr>\n",
       "    <tr>\n",
       "      <th>1229</th>\n",
       "      <td>9935</td>\n",
       "      <td>Radiazione Globale</td>\n",
       "      <td>W/m²</td>\n",
       "      <td>677</td>\n",
       "      <td>Cremona Via Fatebenefratelli</td>\n",
       "      <td>43</td>\n",
       "      <td>CR</td>\n",
       "      <td>2006-04-10T00:00:00.000</td>\n",
       "      <td>N</td>\n",
       "      <td>4999315</td>\n",
       "      <td>582066</td>\n",
       "      <td>10.043836158369393</td>\n",
       "      <td>45.14254063221695</td>\n",
       "      <td>{'latitude': '45.14254063221695', 'longitude':...</td>\n",
       "      <td>8</td>\n",
       "      <td>8</td>\n",
       "      <td>NaN</td>\n",
       "    </tr>\n",
       "    <tr>\n",
       "      <th>1230</th>\n",
       "      <td>9938</td>\n",
       "      <td>Temperatura</td>\n",
       "      <td>°C</td>\n",
       "      <td>677</td>\n",
       "      <td>Cremona Via Fatebenefratelli</td>\n",
       "      <td>43</td>\n",
       "      <td>CR</td>\n",
       "      <td>2006-04-10T00:00:00.000</td>\n",
       "      <td>N</td>\n",
       "      <td>4999315</td>\n",
       "      <td>582066</td>\n",
       "      <td>10.043836158369393</td>\n",
       "      <td>45.14254063221695</td>\n",
       "      <td>{'latitude': '45.14254063221695', 'longitude':...</td>\n",
       "      <td>8</td>\n",
       "      <td>8</td>\n",
       "      <td>NaN</td>\n",
       "    </tr>\n",
       "    <tr>\n",
       "      <th>1231</th>\n",
       "      <td>9939</td>\n",
       "      <td>Umidità Relativa</td>\n",
       "      <td>%</td>\n",
       "      <td>677</td>\n",
       "      <td>Cremona Via Fatebenefratelli</td>\n",
       "      <td>43</td>\n",
       "      <td>CR</td>\n",
       "      <td>2006-04-10T00:00:00.000</td>\n",
       "      <td>N</td>\n",
       "      <td>4999315</td>\n",
       "      <td>582066</td>\n",
       "      <td>10.043836158369393</td>\n",
       "      <td>45.14254063221695</td>\n",
       "      <td>{'latitude': '45.14254063221695', 'longitude':...</td>\n",
       "      <td>8</td>\n",
       "      <td>8</td>\n",
       "      <td>NaN</td>\n",
       "    </tr>\n",
       "  </tbody>\n",
       "</table>\n",
       "<p>1232 rows × 17 columns</p>\n",
       "</div>"
      ],
      "text/plain": [
       "     idsensore           tipologia unit_dimisura idstazione  \\\n",
       "0        10373      Precipitazione            mm        687   \n",
       "1        10376      Precipitazione            mm        706   \n",
       "2        10377         Temperatura            °C        706   \n",
       "3        10381    Umidità Relativa             %        706   \n",
       "4        10382  Radiazione Globale          W/m²        706   \n",
       "...        ...                 ...           ...        ...   \n",
       "1227      9869    Umidità Relativa             %        672   \n",
       "1228      9933      Precipitazione            mm        677   \n",
       "1229      9935  Radiazione Globale          W/m²        677   \n",
       "1230      9938         Temperatura            °C        677   \n",
       "1231      9939    Umidità Relativa             %        677   \n",
       "\n",
       "                      nomestazione quota provincia                datastart  \\\n",
       "0                   Ferno v.Di Dio   215        VA  2007-08-13T00:00:00.000   \n",
       "1                     Lecco v.Sora   272        LC  2008-07-22T00:00:00.000   \n",
       "2                     Lecco v.Sora   272        LC  2008-07-22T00:00:00.000   \n",
       "3                     Lecco v.Sora   272        LC  2008-07-22T00:00:00.000   \n",
       "4                     Lecco v.Sora   272        LC  2008-07-31T00:00:00.000   \n",
       "...                            ...   ...       ...                      ...   \n",
       "1227             Cornale v.Libertà    74        PV  2005-07-28T00:00:00.000   \n",
       "1228  Cremona Via Fatebenefratelli    43        CR  2006-04-10T00:00:00.000   \n",
       "1229  Cremona Via Fatebenefratelli    43        CR  2006-04-10T00:00:00.000   \n",
       "1230  Cremona Via Fatebenefratelli    43        CR  2006-04-10T00:00:00.000   \n",
       "1231  Cremona Via Fatebenefratelli    43        CR  2006-04-10T00:00:00.000   \n",
       "\n",
       "     storico cgb_nord cgb_est                 lng                lat  \\\n",
       "0          N  5051773  481053   8.756970445453431  45.61924377994763   \n",
       "1          N  5078987  531045   9.399950344681852  45.86374884127965   \n",
       "2          N  5078987  531045   9.399950344681852  45.86374884127965   \n",
       "3          N  5078987  531045   9.399950344681852  45.86374884127965   \n",
       "4          N  5078987  531045   9.399950344681852  45.86374884127965   \n",
       "...      ...      ...     ...                 ...                ...   \n",
       "1227       N  4987406  493238   8.914144599002409  45.04007657202963   \n",
       "1228       N  4999315  582066  10.043836158369393  45.14254063221695   \n",
       "1229       N  4999315  582066  10.043836158369393  45.14254063221695   \n",
       "1230       N  4999315  582066  10.043836158369393  45.14254063221695   \n",
       "1231       N  4999315  582066  10.043836158369393  45.14254063221695   \n",
       "\n",
       "                                               location  \\\n",
       "0     {'latitude': '45.61924377994763', 'longitude':...   \n",
       "1     {'latitude': '45.86374884127965', 'longitude':...   \n",
       "2     {'latitude': '45.86374884127965', 'longitude':...   \n",
       "3     {'latitude': '45.86374884127965', 'longitude':...   \n",
       "4     {'latitude': '45.86374884127965', 'longitude':...   \n",
       "...                                                 ...   \n",
       "1227  {'latitude': '45.04007657202963', 'longitude':...   \n",
       "1228  {'latitude': '45.14254063221695', 'longitude':...   \n",
       "1229  {'latitude': '45.14254063221695', 'longitude':...   \n",
       "1230  {'latitude': '45.14254063221695', 'longitude':...   \n",
       "1231  {'latitude': '45.14254063221695', 'longitude':...   \n",
       "\n",
       "     :@computed_region_6hky_swhk :@computed_region_ttgh_9sm5 datastop  \n",
       "0                              1                           1      NaN  \n",
       "1                             10                          10      NaN  \n",
       "2                             10                          10      NaN  \n",
       "3                             10                          10      NaN  \n",
       "4                             10                          10      NaN  \n",
       "...                          ...                         ...      ...  \n",
       "1227                           7                           7      NaN  \n",
       "1228                           8                           8      NaN  \n",
       "1229                           8                           8      NaN  \n",
       "1230                           8                           8      NaN  \n",
       "1231                           8                           8      NaN  \n",
       "\n",
       "[1232 rows x 17 columns]"
      ]
     },
     "execution_count": 6,
     "metadata": {},
     "output_type": "execute_result"
    }
   ],
   "source": [
    "stations_df = pd.DataFrame(stations_info)\n",
    "stations_df"
   ]
  },
  {
   "cell_type": "markdown",
   "metadata": {
    "id": "O4d0aJe16-U_"
   },
   "source": [
    "Consideration: inside the plugin the data type for each columns must be set accordingly to QGIS data types."
   ]
  },
  {
   "cell_type": "code",
   "execution_count": 7,
   "metadata": {},
   "outputs": [],
   "source": [
    "temperature_sensors = (stations_df.loc[(stations_df['tipologia'] == 'Temperatura') & (stations_df['storico'] == 'N')]).idsensore.tolist()"
   ]
  },
  {
   "cell_type": "code",
   "execution_count": 8,
   "metadata": {},
   "outputs": [
    {
     "data": {
      "text/plain": [
       "197"
      ]
     },
     "execution_count": 8,
     "metadata": {},
     "output_type": "execute_result"
    }
   ],
   "source": [
    "temperature_sensors = list(map(int, temperature_sensors))\n",
    "len(temperature_sensors)"
   ]
  },
  {
   "cell_type": "markdown",
   "metadata": {
    "id": "Rt3NMBcH6osR"
   },
   "source": [
    "**Request data time series**"
   ]
  },
  {
   "cell_type": "code",
   "execution_count": 9,
   "metadata": {},
   "outputs": [],
   "source": [
    "def req_ARPA_start_end_API(client):\n",
    "    \"\"\"\n",
    "    Function to request the start and the end date of data available in the ARPA API.\n",
    "\n",
    "      Parameters:\n",
    "        - client: the client session\n",
    "\n",
    "      Returns: \n",
    "        - start_API_date (str): starting date for available data inside the API.\n",
    "        - end_API_date (str): ending date for available data inside the API.\n",
    "        \n",
    "    \"\"\"\n",
    "    weather_sensor_id = \"647i-nhxk\" #Weather sensors id\n",
    "    query = \"\"\" select MAX(data), MIN(data) limit 9999999999999999\"\"\"\n",
    "\n",
    "    min_max_dates = client.get(weather_sensor_id, query=query)[0] #Get max and min dates from the list\n",
    "    \n",
    "    #Start and minimum dates from the dict obtained from the API\n",
    "    start_API_date = min_max_dates['MIN_data']\n",
    "    end_API_date = min_max_dates['MAX_data']\n",
    "    \n",
    "    #Convert to datetime and add 1 day to end date to consider all the values inside the last day (e.g. 20/01/2023 23:10:00 won't be considered and the requested data will be untile 20/01/2023 00:00:00)\n",
    "    start_API_date = datetime.strptime(start_API_date, \"%Y-%m-%dT%H:%M:%S.%f\")\n",
    "    end_API_date = datetime.strptime(end_API_date, \"%Y-%m-%dT%H:%M:%S.%f\")+timedelta(days=1)\n",
    "    \n",
    "    #Convert to string in year-month-day format, accepted by ARPA query\n",
    "    start_API_date = start_API_date.strftime(\"%Y-%m-%d\")\n",
    "    end_API_date = end_API_date.strftime(\"%Y-%m-%d\")\n",
    "\n",
    "    return start_API_date, end_API_date"
   ]
  },
  {
   "cell_type": "code",
   "execution_count": 10,
   "metadata": {},
   "outputs": [
    {
     "name": "stdout",
     "output_type": "stream",
     "text": [
      "The data from the API are available from: 2023-01-13 up to: 2023-01-20\n"
     ]
    }
   ],
   "source": [
    "start_date, end_date = req_ARPA_start_end_API(client)\n",
    "print(\"The data from the API are available from: \" + start_date + \" up to: \" + end_date)"
   ]
  },
  {
   "cell_type": "code",
   "execution_count": 11,
   "metadata": {
    "id": "Q4BlSXDz8bPk"
   },
   "outputs": [],
   "source": [
    "def req_ARPA_data_API(client, start_date, end_date):\n",
    "    \"\"\"\n",
    "    Function to request data from available weather sensors in the ARPA API using a query.\n",
    "\n",
    "      Parameters:\n",
    "        - client: the client session\n",
    "        - start date (str): the start date in yyy-mm-dd format\n",
    "        - end date (str): the end date in yyy-mm-dd format\n",
    "\n",
    "      Returns: \n",
    "        - time_series: time series of values requested with the query for all sensors\n",
    "        \n",
    "    \"\"\"\n",
    "    weather_sensor_id = \"647i-nhxk\"\n",
    "    query = \"\"\"\n",
    "      select\n",
    "          *\n",
    "      where data between \\'{}\\' and \\'{}\\' limit 9999999999999999\n",
    "      \"\"\".format(start_date, end_date)\n",
    "\n",
    "    time_series = client.get(weather_sensor_id, query=query)\n",
    "\n",
    "    return time_series"
   ]
  },
  {
   "cell_type": "code",
   "execution_count": 12,
   "metadata": {
    "id": "jIO998t-8ThF"
   },
   "outputs": [],
   "source": [
    "sensors_values_API = req_ARPA_data_API(client, start_date, end_date)"
   ]
  },
  {
   "cell_type": "code",
   "execution_count": 13,
   "metadata": {},
   "outputs": [
    {
     "name": "stdout",
     "output_type": "stream",
     "text": [
      "Total lenght of the list containing the values from ARPA sensors: 499815\n"
     ]
    }
   ],
   "source": [
    "print(\"Total lenght of the list containing the values from ARPA sensors:\", len(sensors_values_API))"
   ]
  },
  {
   "cell_type": "code",
   "execution_count": 14,
   "metadata": {},
   "outputs": [],
   "source": [
    "sensors_values_df_API = pd.DataFrame(sensors_values_API, columns=['idsensore','data','valore'])"
   ]
  },
  {
   "cell_type": "code",
   "execution_count": 15,
   "metadata": {},
   "outputs": [
    {
     "data": {
      "text/html": [
       "<div>\n",
       "<style scoped>\n",
       "    .dataframe tbody tr th:only-of-type {\n",
       "        vertical-align: middle;\n",
       "    }\n",
       "\n",
       "    .dataframe tbody tr th {\n",
       "        vertical-align: top;\n",
       "    }\n",
       "\n",
       "    .dataframe thead th {\n",
       "        text-align: right;\n",
       "    }\n",
       "</style>\n",
       "<table border=\"1\" class=\"dataframe\">\n",
       "  <thead>\n",
       "    <tr style=\"text-align: right;\">\n",
       "      <th></th>\n",
       "      <th>idsensore</th>\n",
       "      <th>data</th>\n",
       "      <th>valore</th>\n",
       "    </tr>\n",
       "  </thead>\n",
       "  <tbody>\n",
       "    <tr>\n",
       "      <th>0</th>\n",
       "      <td>2116</td>\n",
       "      <td>2023-01-16T06:30:00.000</td>\n",
       "      <td>0</td>\n",
       "    </tr>\n",
       "    <tr>\n",
       "      <th>1</th>\n",
       "      <td>14207</td>\n",
       "      <td>2023-01-16T05:50:00.000</td>\n",
       "      <td>0</td>\n",
       "    </tr>\n",
       "    <tr>\n",
       "      <th>2</th>\n",
       "      <td>9074</td>\n",
       "      <td>2023-01-16T09:10:00.000</td>\n",
       "      <td>1.4</td>\n",
       "    </tr>\n",
       "    <tr>\n",
       "      <th>3</th>\n",
       "      <td>8122</td>\n",
       "      <td>2023-01-16T05:20:00.000</td>\n",
       "      <td>0</td>\n",
       "    </tr>\n",
       "    <tr>\n",
       "      <th>4</th>\n",
       "      <td>11190</td>\n",
       "      <td>2023-01-16T06:10:00.000</td>\n",
       "      <td>43</td>\n",
       "    </tr>\n",
       "    <tr>\n",
       "      <th>...</th>\n",
       "      <td>...</td>\n",
       "      <td>...</td>\n",
       "      <td>...</td>\n",
       "    </tr>\n",
       "    <tr>\n",
       "      <th>499810</th>\n",
       "      <td>17593</td>\n",
       "      <td>2023-01-19T05:10:00.000</td>\n",
       "      <td>0</td>\n",
       "    </tr>\n",
       "    <tr>\n",
       "      <th>499811</th>\n",
       "      <td>19116</td>\n",
       "      <td>2023-01-19T01:30:00.000</td>\n",
       "      <td>0.5</td>\n",
       "    </tr>\n",
       "    <tr>\n",
       "      <th>499812</th>\n",
       "      <td>9399</td>\n",
       "      <td>2023-01-19T02:10:00.000</td>\n",
       "      <td>44</td>\n",
       "    </tr>\n",
       "    <tr>\n",
       "      <th>499813</th>\n",
       "      <td>32410</td>\n",
       "      <td>2023-01-19T03:30:00.000</td>\n",
       "      <td>3.8</td>\n",
       "    </tr>\n",
       "    <tr>\n",
       "      <th>499814</th>\n",
       "      <td>14282</td>\n",
       "      <td>2023-01-19T04:40:00.000</td>\n",
       "      <td>0</td>\n",
       "    </tr>\n",
       "  </tbody>\n",
       "</table>\n",
       "<p>499815 rows × 3 columns</p>\n",
       "</div>"
      ],
      "text/plain": [
       "       idsensore                     data valore\n",
       "0           2116  2023-01-16T06:30:00.000      0\n",
       "1          14207  2023-01-16T05:50:00.000      0\n",
       "2           9074  2023-01-16T09:10:00.000    1.4\n",
       "3           8122  2023-01-16T05:20:00.000      0\n",
       "4          11190  2023-01-16T06:10:00.000     43\n",
       "...          ...                      ...    ...\n",
       "499810     17593  2023-01-19T05:10:00.000      0\n",
       "499811     19116  2023-01-19T01:30:00.000    0.5\n",
       "499812      9399  2023-01-19T02:10:00.000     44\n",
       "499813     32410  2023-01-19T03:30:00.000    3.8\n",
       "499814     14282  2023-01-19T04:40:00.000      0\n",
       "\n",
       "[499815 rows x 3 columns]"
      ]
     },
     "execution_count": 15,
     "metadata": {},
     "output_type": "execute_result"
    }
   ],
   "source": [
    "sensors_values_df_API"
   ]
  },
  {
   "cell_type": "code",
   "execution_count": 16,
   "metadata": {
    "colab": {
     "base_uri": "https://localhost:8080/"
    },
    "executionInfo": {
     "elapsed": 223,
     "status": "ok",
     "timestamp": 1673611225484,
     "user": {
      "displayName": "Emanuele Capizzi",
      "userId": "03450198425113630983"
     },
     "user_tz": -60
    },
    "id": "-1B9AzPS7cXe",
    "outputId": "7ff81693-7b28-4a7f-9304-1a2c134512d9"
   },
   "outputs": [
    {
     "name": "stdout",
     "output_type": "stream",
     "text": [
      "  idsensore                data valore\n",
      "0      5865 2023-01-19 05:50:00    2.2\n",
      "1     19062 2023-01-19 05:50:00    0.9\n",
      "2      6432 2023-01-19 05:50:00    0.4\n",
      "3      5910 2023-01-19 05:50:00      2\n",
      "4     19107 2023-01-19 05:50:00    2.6\n"
     ]
    }
   ],
   "source": [
    "sensors_values_df_API['data'] = pd.to_datetime(sensors_values_df_API['data'])\n",
    "sensors_values_df_API = sensors_values_df_API.sort_values(by='data', ascending=False).reset_index(drop=True)\n",
    "print(sensors_values_df_API.head())"
   ]
  },
  {
   "cell_type": "markdown",
   "metadata": {},
   "source": [
    "# Values from csv files"
   ]
  },
  {
   "cell_type": "code",
   "execution_count": 17,
   "metadata": {
    "id": "AzdiqW6zBn1y"
   },
   "outputs": [],
   "source": [
    "def download_extract_csv_from_year(year):\n",
    "    \"\"\"\n",
    "    Function for selecting the correct link for downloading zipped .csv meteorological data from ARPA sensors and extracting it.\n",
    "\n",
    "    For older data it is necessary to download this .csv files containing the time series of the meteorological sensors.\n",
    "\n",
    "            Parameters:\n",
    "                year(str): the selected year for downloading the .csv file containing the meteorological sensors time series\n",
    "\n",
    "            Returns:\n",
    "                None\n",
    "    \"\"\"\n",
    "    \n",
    "    #Create a dict with years and link to the zip folder on Open Data Lombardia\n",
    "    switcher = {\n",
    "        '2022': \"https://www.dati.lombardia.it/download/mvvc-nmzv/application%2Fzip\",\n",
    "        '2021': \"https://www.dati.lombardia.it/download/49n9-866s/application%2Fzip\",\n",
    "        '2020': \"https://www.dati.lombardia.it/download/erjn-istm/application%2Fzip\",\n",
    "        '2019': \"https://www.dati.lombardia.it/download/wrhf-6ztd/application%2Fzip\",\n",
    "        '2018': \"https://www.dati.lombardia.it/download/sfbe-yqe8/application%2Fzip\",\n",
    "        '2017': \"https://www.dati.lombardia.it/download/vx6g-atiu/application%2Fzip\"\n",
    "    }\n",
    "    \n",
    "    #Select the url and make request\n",
    "    url = switcher[year]\n",
    "    filename = 'meteo_'+str(year)+'.zip'\n",
    "    \n",
    "    print(('Downloading {filename} -> Started. It might take a while... Please wait!').format(filename = filename))\n",
    "    req = requests.get(url)\n",
    "    \n",
    "    # Writing the file to the local file system\n",
    "    with open(filename,'wb') as output_file:\n",
    "        output_file.write(req.content)\n",
    "    print(('Downloading {filename} -> Completed').format(filename = filename))\n",
    "    \n",
    "    #Loading the .zip and creating a zip object\n",
    "    with ZipFile(filename, 'r') as zObject:\n",
    "        # Extracting all the members of the zip into a specific location\n",
    "        zObject.extractall()\n",
    "    \n",
    "    csv_file=str(year)+'.csv'\n",
    "    print((\"File unzipped: {filename}\").format(filename=filename))\n",
    "    print((\"File csv saved: {filename}\").format(filename=csv_file))\n",
    "    \n",
    "    #Remove the zip folder\n",
    "    if os.path.exists(filename):\n",
    "        os.remove(filename)\n",
    "    else:\n",
    "        print(\"The file does not exist\")"
   ]
  },
  {
   "cell_type": "code",
   "execution_count": 18,
   "metadata": {},
   "outputs": [],
   "source": [
    "year = 2022\n",
    "csv_file = str(year)+'.csv'"
   ]
  },
  {
   "cell_type": "code",
   "execution_count": 19,
   "metadata": {
    "id": "moc31PCoDuG0"
   },
   "outputs": [
    {
     "name": "stdout",
     "output_type": "stream",
     "text": [
      "Downloading meteo_2022.zip -> Started. It might take a while... Please wait!\n",
      "Downloading meteo_2022.zip -> Completed\n",
      "File unzipped: meteo_2022.zip\n",
      "File csv saved: 2022.csv\n"
     ]
    }
   ],
   "source": [
    "download_extract_csv_from_year(str(year))"
   ]
  },
  {
   "cell_type": "markdown",
   "metadata": {},
   "source": [
    "Ricordarsi di aggiungere 1 giorno alla end date per considerare anche le ore dopo mezzanotte"
   ]
  },
  {
   "cell_type": "code",
   "execution_count": 20,
   "metadata": {},
   "outputs": [],
   "source": [
    "start_date_csv = str(year)+\"-07-01\"\n",
    "end_date_csv = str(year)+\"-07-30\"\n",
    "start_date_csv = datetime.strptime(start_date_csv, \"%Y-%m-%d\")\n",
    "end_date_csv = datetime.strptime(end_date_csv, \"%Y-%m-%d\")+timedelta(days=1)"
   ]
  },
  {
   "cell_type": "code",
   "execution_count": 21,
   "metadata": {},
   "outputs": [
    {
     "data": {
      "text/plain": [
       "datetime.datetime(2022, 7, 31, 0, 0)"
      ]
     },
     "execution_count": 21,
     "metadata": {},
     "output_type": "execute_result"
    }
   ],
   "source": [
    "end_date_csv"
   ]
  },
  {
   "cell_type": "code",
   "execution_count": 273,
   "metadata": {},
   "outputs": [
    {
     "data": {
      "text/html": [
       "<div><strong>Dask DataFrame Structure:</strong></div>\n",
       "<div>\n",
       "<style scoped>\n",
       "    .dataframe tbody tr th:only-of-type {\n",
       "        vertical-align: middle;\n",
       "    }\n",
       "\n",
       "    .dataframe tbody tr th {\n",
       "        vertical-align: top;\n",
       "    }\n",
       "\n",
       "    .dataframe thead th {\n",
       "        text-align: right;\n",
       "    }\n",
       "</style>\n",
       "<table border=\"1\" class=\"dataframe\">\n",
       "  <thead>\n",
       "    <tr style=\"text-align: right;\">\n",
       "      <th></th>\n",
       "      <th>idsensore</th>\n",
       "      <th>data</th>\n",
       "      <th>valore</th>\n",
       "    </tr>\n",
       "    <tr>\n",
       "      <th>npartitions=19</th>\n",
       "      <th></th>\n",
       "      <th></th>\n",
       "      <th></th>\n",
       "    </tr>\n",
       "  </thead>\n",
       "  <tbody>\n",
       "    <tr>\n",
       "      <th></th>\n",
       "      <td>int64</td>\n",
       "      <td>object</td>\n",
       "      <td>float64</td>\n",
       "    </tr>\n",
       "    <tr>\n",
       "      <th></th>\n",
       "      <td>...</td>\n",
       "      <td>...</td>\n",
       "      <td>...</td>\n",
       "    </tr>\n",
       "    <tr>\n",
       "      <th>...</th>\n",
       "      <td>...</td>\n",
       "      <td>...</td>\n",
       "      <td>...</td>\n",
       "    </tr>\n",
       "    <tr>\n",
       "      <th></th>\n",
       "      <td>...</td>\n",
       "      <td>...</td>\n",
       "      <td>...</td>\n",
       "    </tr>\n",
       "    <tr>\n",
       "      <th></th>\n",
       "      <td>...</td>\n",
       "      <td>...</td>\n",
       "      <td>...</td>\n",
       "    </tr>\n",
       "  </tbody>\n",
       "</table>\n",
       "</div>\n",
       "<div>Dask Name: rename, 2 graph layers</div>"
      ],
      "text/plain": [
       "Dask DataFrame Structure:\n",
       "               idsensore    data   valore\n",
       "npartitions=19                           \n",
       "                   int64  object  float64\n",
       "                     ...     ...      ...\n",
       "...                  ...     ...      ...\n",
       "                     ...     ...      ...\n",
       "                     ...     ...      ...\n",
       "Dask Name: rename, 2 graph layers"
      ]
     },
     "execution_count": 273,
     "metadata": {},
     "output_type": "execute_result"
    }
   ],
   "source": [
    "df = dd.read_csv(csv_file, blocksize=1e8, usecols=['IdSensore','Data','Valore'])  # 100MB chunks\n",
    "df = df.rename(columns={'IdSensore': 'idsensore', 'Data': 'data', 'Valore': 'valore'})  #make csv columns name equal to api names\n",
    "df"
   ]
  },
  {
   "cell_type": "code",
   "execution_count": 274,
   "metadata": {},
   "outputs": [],
   "source": [
    "df = df.compute()"
   ]
  },
  {
   "cell_type": "code",
   "execution_count": 275,
   "metadata": {},
   "outputs": [],
   "source": [
    "df['data'] = pd.to_datetime(df.data, format='%d/%m/%Y %H:%M:%S')"
   ]
  },
  {
   "cell_type": "code",
   "execution_count": 276,
   "metadata": {},
   "outputs": [
    {
     "data": {
      "text/html": [
       "<div>\n",
       "<style scoped>\n",
       "    .dataframe tbody tr th:only-of-type {\n",
       "        vertical-align: middle;\n",
       "    }\n",
       "\n",
       "    .dataframe tbody tr th {\n",
       "        vertical-align: top;\n",
       "    }\n",
       "\n",
       "    .dataframe thead th {\n",
       "        text-align: right;\n",
       "    }\n",
       "</style>\n",
       "<table border=\"1\" class=\"dataframe\">\n",
       "  <thead>\n",
       "    <tr style=\"text-align: right;\">\n",
       "      <th></th>\n",
       "      <th>idsensore</th>\n",
       "      <th>data</th>\n",
       "      <th>valore</th>\n",
       "    </tr>\n",
       "  </thead>\n",
       "  <tbody>\n",
       "    <tr>\n",
       "      <th>0</th>\n",
       "      <td>3</td>\n",
       "      <td>2022-01-01 00:00:00</td>\n",
       "      <td>35.0</td>\n",
       "    </tr>\n",
       "    <tr>\n",
       "      <th>1</th>\n",
       "      <td>6</td>\n",
       "      <td>2022-01-01 00:00:00</td>\n",
       "      <td>11.8</td>\n",
       "    </tr>\n",
       "    <tr>\n",
       "      <th>2</th>\n",
       "      <td>9</td>\n",
       "      <td>2022-01-01 00:00:00</td>\n",
       "      <td>0.0</td>\n",
       "    </tr>\n",
       "    <tr>\n",
       "      <th>3</th>\n",
       "      <td>11</td>\n",
       "      <td>2022-01-01 00:00:00</td>\n",
       "      <td>0.0</td>\n",
       "    </tr>\n",
       "    <tr>\n",
       "      <th>4</th>\n",
       "      <td>13</td>\n",
       "      <td>2022-01-01 00:00:00</td>\n",
       "      <td>7.2</td>\n",
       "    </tr>\n",
       "    <tr>\n",
       "      <th>...</th>\n",
       "      <td>...</td>\n",
       "      <td>...</td>\n",
       "      <td>...</td>\n",
       "    </tr>\n",
       "    <tr>\n",
       "      <th>2966533</th>\n",
       "      <td>3118</td>\n",
       "      <td>2022-12-22 11:50:00</td>\n",
       "      <td>-0.2</td>\n",
       "    </tr>\n",
       "    <tr>\n",
       "      <th>2966534</th>\n",
       "      <td>11099</td>\n",
       "      <td>2022-12-22 11:50:00</td>\n",
       "      <td>54.0</td>\n",
       "    </tr>\n",
       "    <tr>\n",
       "      <th>2966535</th>\n",
       "      <td>11165</td>\n",
       "      <td>2022-12-22 11:50:00</td>\n",
       "      <td>74.0</td>\n",
       "    </tr>\n",
       "    <tr>\n",
       "      <th>2966536</th>\n",
       "      <td>18267</td>\n",
       "      <td>2022-12-22 11:50:00</td>\n",
       "      <td>143.0</td>\n",
       "    </tr>\n",
       "    <tr>\n",
       "      <th>2966537</th>\n",
       "      <td>30523</td>\n",
       "      <td>2022-12-22 11:50:00</td>\n",
       "      <td>2.4</td>\n",
       "    </tr>\n",
       "  </tbody>\n",
       "</table>\n",
       "<p>56295920 rows × 3 columns</p>\n",
       "</div>"
      ],
      "text/plain": [
       "         idsensore                data  valore\n",
       "0                3 2022-01-01 00:00:00    35.0\n",
       "1                6 2022-01-01 00:00:00    11.8\n",
       "2                9 2022-01-01 00:00:00     0.0\n",
       "3               11 2022-01-01 00:00:00     0.0\n",
       "4               13 2022-01-01 00:00:00     7.2\n",
       "...            ...                 ...     ...\n",
       "2966533       3118 2022-12-22 11:50:00    -0.2\n",
       "2966534      11099 2022-12-22 11:50:00    54.0\n",
       "2966535      11165 2022-12-22 11:50:00    74.0\n",
       "2966536      18267 2022-12-22 11:50:00   143.0\n",
       "2966537      30523 2022-12-22 11:50:00     2.4\n",
       "\n",
       "[56295920 rows x 3 columns]"
      ]
     },
     "execution_count": 276,
     "metadata": {},
     "output_type": "execute_result"
    }
   ],
   "source": [
    "df"
   ]
  },
  {
   "cell_type": "code",
   "execution_count": 277,
   "metadata": {},
   "outputs": [],
   "source": [
    "# df = df.loc[(df['idsensore'] == 10377) &(df['data'] >= start_date_csv) & (df['data'] <= end_date_csv)]\n",
    "# df"
   ]
  },
  {
   "cell_type": "code",
   "execution_count": 280,
   "metadata": {},
   "outputs": [],
   "source": [
    "df = df[df['idsensore'].isin(temperature_sensors)]"
   ]
  },
  {
   "cell_type": "code",
   "execution_count": 281,
   "metadata": {},
   "outputs": [
    {
     "data": {
      "text/html": [
       "<div>\n",
       "<style scoped>\n",
       "    .dataframe tbody tr th:only-of-type {\n",
       "        vertical-align: middle;\n",
       "    }\n",
       "\n",
       "    .dataframe tbody tr th {\n",
       "        vertical-align: top;\n",
       "    }\n",
       "\n",
       "    .dataframe thead th {\n",
       "        text-align: right;\n",
       "    }\n",
       "</style>\n",
       "<table border=\"1\" class=\"dataframe\">\n",
       "  <thead>\n",
       "    <tr style=\"text-align: right;\">\n",
       "      <th></th>\n",
       "      <th>idsensore</th>\n",
       "      <th>data</th>\n",
       "      <th>valore</th>\n",
       "    </tr>\n",
       "  </thead>\n",
       "  <tbody>\n",
       "    <tr>\n",
       "      <th>20</th>\n",
       "      <td>53</td>\n",
       "      <td>2022-01-01 00:00:00</td>\n",
       "      <td>9.9</td>\n",
       "    </tr>\n",
       "    <tr>\n",
       "      <th>32</th>\n",
       "      <td>115</td>\n",
       "      <td>2022-01-01 00:00:00</td>\n",
       "      <td>7.2</td>\n",
       "    </tr>\n",
       "    <tr>\n",
       "      <th>35</th>\n",
       "      <td>121</td>\n",
       "      <td>2022-01-01 00:00:00</td>\n",
       "      <td>10.8</td>\n",
       "    </tr>\n",
       "    <tr>\n",
       "      <th>46</th>\n",
       "      <td>2001</td>\n",
       "      <td>2022-01-01 00:00:00</td>\n",
       "      <td>-0.3</td>\n",
       "    </tr>\n",
       "    <tr>\n",
       "      <th>50</th>\n",
       "      <td>2039</td>\n",
       "      <td>2022-01-01 00:00:00</td>\n",
       "      <td>1.0</td>\n",
       "    </tr>\n",
       "    <tr>\n",
       "      <th>...</th>\n",
       "      <td>...</td>\n",
       "      <td>...</td>\n",
       "      <td>...</td>\n",
       "    </tr>\n",
       "    <tr>\n",
       "      <th>2966416</th>\n",
       "      <td>19415</td>\n",
       "      <td>2022-12-22 11:20:00</td>\n",
       "      <td>8.3</td>\n",
       "    </tr>\n",
       "    <tr>\n",
       "      <th>2966420</th>\n",
       "      <td>19426</td>\n",
       "      <td>2022-12-22 11:20:00</td>\n",
       "      <td>7.8</td>\n",
       "    </tr>\n",
       "    <tr>\n",
       "      <th>2966424</th>\n",
       "      <td>19441</td>\n",
       "      <td>2022-12-22 11:20:00</td>\n",
       "      <td>7.2</td>\n",
       "    </tr>\n",
       "    <tr>\n",
       "      <th>2966432</th>\n",
       "      <td>32353</td>\n",
       "      <td>2022-12-22 11:20:00</td>\n",
       "      <td>5.6</td>\n",
       "    </tr>\n",
       "    <tr>\n",
       "      <th>2966444</th>\n",
       "      <td>5910</td>\n",
       "      <td>2022-12-22 11:30:00</td>\n",
       "      <td>7.2</td>\n",
       "    </tr>\n",
       "  </tbody>\n",
       "</table>\n",
       "<p>9513470 rows × 3 columns</p>\n",
       "</div>"
      ],
      "text/plain": [
       "         idsensore                data  valore\n",
       "20              53 2022-01-01 00:00:00     9.9\n",
       "32             115 2022-01-01 00:00:00     7.2\n",
       "35             121 2022-01-01 00:00:00    10.8\n",
       "46            2001 2022-01-01 00:00:00    -0.3\n",
       "50            2039 2022-01-01 00:00:00     1.0\n",
       "...            ...                 ...     ...\n",
       "2966416      19415 2022-12-22 11:20:00     8.3\n",
       "2966420      19426 2022-12-22 11:20:00     7.8\n",
       "2966424      19441 2022-12-22 11:20:00     7.2\n",
       "2966432      32353 2022-12-22 11:20:00     5.6\n",
       "2966444       5910 2022-12-22 11:30:00     7.2\n",
       "\n",
       "[9513470 rows x 3 columns]"
      ]
     },
     "execution_count": 281,
     "metadata": {},
     "output_type": "execute_result"
    }
   ],
   "source": [
    "df"
   ]
  },
  {
   "cell_type": "code",
   "execution_count": 206,
   "metadata": {},
   "outputs": [
    {
     "name": "stdout",
     "output_type": "stream",
     "text": [
      "18.568346738815308\n"
     ]
    }
   ],
   "source": [
    "t = time.time()\n",
    "df = df.compute()\n",
    "elapsed = time.time() - t\n",
    "print(elapsed)"
   ]
  },
  {
   "cell_type": "code",
   "execution_count": 282,
   "metadata": {},
   "outputs": [
    {
     "name": "stdout",
     "output_type": "stream",
     "text": [
      "0.026439428329467773\n"
     ]
    }
   ],
   "source": [
    "t = time.time()\n",
    "df = df.set_index('data')\n",
    "elapsed = time.time() - t\n",
    "print(elapsed)"
   ]
  },
  {
   "cell_type": "code",
   "execution_count": 283,
   "metadata": {},
   "outputs": [
    {
     "data": {
      "text/plain": [
       "197"
      ]
     },
     "execution_count": 283,
     "metadata": {},
     "output_type": "execute_result"
    }
   ],
   "source": [
    "len(df.idsensore.unique())"
   ]
  },
  {
   "cell_type": "code",
   "execution_count": 284,
   "metadata": {},
   "outputs": [],
   "source": [
    "grouped = df.groupby('idsensore').resample('D')['valore'].agg('mean')"
   ]
  },
  {
   "cell_type": "code",
   "execution_count": 287,
   "metadata": {},
   "outputs": [],
   "source": [
    "grouped = grouped.reset_index()"
   ]
  },
  {
   "cell_type": "code",
   "execution_count": 288,
   "metadata": {},
   "outputs": [
    {
     "data": {
      "text/html": [
       "<div>\n",
       "<style scoped>\n",
       "    .dataframe tbody tr th:only-of-type {\n",
       "        vertical-align: middle;\n",
       "    }\n",
       "\n",
       "    .dataframe tbody tr th {\n",
       "        vertical-align: top;\n",
       "    }\n",
       "\n",
       "    .dataframe thead th {\n",
       "        text-align: right;\n",
       "    }\n",
       "</style>\n",
       "<table border=\"1\" class=\"dataframe\">\n",
       "  <thead>\n",
       "    <tr style=\"text-align: right;\">\n",
       "      <th></th>\n",
       "      <th>idsensore</th>\n",
       "      <th>data</th>\n",
       "      <th>valore</th>\n",
       "    </tr>\n",
       "  </thead>\n",
       "  <tbody>\n",
       "    <tr>\n",
       "      <th>0</th>\n",
       "      <td>53</td>\n",
       "      <td>2022-01-01</td>\n",
       "      <td>7.993056</td>\n",
       "    </tr>\n",
       "    <tr>\n",
       "      <th>1</th>\n",
       "      <td>53</td>\n",
       "      <td>2022-01-02</td>\n",
       "      <td>5.057639</td>\n",
       "    </tr>\n",
       "    <tr>\n",
       "      <th>2</th>\n",
       "      <td>53</td>\n",
       "      <td>2022-01-03</td>\n",
       "      <td>3.887500</td>\n",
       "    </tr>\n",
       "    <tr>\n",
       "      <th>3</th>\n",
       "      <td>53</td>\n",
       "      <td>2022-01-04</td>\n",
       "      <td>0.181944</td>\n",
       "    </tr>\n",
       "    <tr>\n",
       "      <th>4</th>\n",
       "      <td>53</td>\n",
       "      <td>2022-01-05</td>\n",
       "      <td>-1.530556</td>\n",
       "    </tr>\n",
       "    <tr>\n",
       "      <th>...</th>\n",
       "      <td>...</td>\n",
       "      <td>...</td>\n",
       "      <td>...</td>\n",
       "    </tr>\n",
       "    <tr>\n",
       "      <th>69850</th>\n",
       "      <td>32401</td>\n",
       "      <td>2022-12-18</td>\n",
       "      <td>NaN</td>\n",
       "    </tr>\n",
       "    <tr>\n",
       "      <th>69851</th>\n",
       "      <td>32401</td>\n",
       "      <td>2022-12-19</td>\n",
       "      <td>NaN</td>\n",
       "    </tr>\n",
       "    <tr>\n",
       "      <th>69852</th>\n",
       "      <td>32401</td>\n",
       "      <td>2022-12-20</td>\n",
       "      <td>NaN</td>\n",
       "    </tr>\n",
       "    <tr>\n",
       "      <th>69853</th>\n",
       "      <td>32401</td>\n",
       "      <td>2022-12-21</td>\n",
       "      <td>1.801639</td>\n",
       "    </tr>\n",
       "    <tr>\n",
       "      <th>69854</th>\n",
       "      <td>32401</td>\n",
       "      <td>2022-12-22</td>\n",
       "      <td>0.797059</td>\n",
       "    </tr>\n",
       "  </tbody>\n",
       "</table>\n",
       "<p>69855 rows × 3 columns</p>\n",
       "</div>"
      ],
      "text/plain": [
       "       idsensore       data    valore\n",
       "0             53 2022-01-01  7.993056\n",
       "1             53 2022-01-02  5.057639\n",
       "2             53 2022-01-03  3.887500\n",
       "3             53 2022-01-04  0.181944\n",
       "4             53 2022-01-05 -1.530556\n",
       "...          ...        ...       ...\n",
       "69850      32401 2022-12-18       NaN\n",
       "69851      32401 2022-12-19       NaN\n",
       "69852      32401 2022-12-20       NaN\n",
       "69853      32401 2022-12-21  1.801639\n",
       "69854      32401 2022-12-22  0.797059\n",
       "\n",
       "[69855 rows x 3 columns]"
      ]
     },
     "execution_count": 288,
     "metadata": {},
     "output_type": "execute_result"
    }
   ],
   "source": [
    "grouped"
   ]
  },
  {
   "cell_type": "code",
   "execution_count": 289,
   "metadata": {},
   "outputs": [
    {
     "data": {
      "text/plain": [
       "197"
      ]
     },
     "execution_count": 289,
     "metadata": {},
     "output_type": "execute_result"
    }
   ],
   "source": [
    "sensors_list = grouped['idsensore'].unique().tolist()\n",
    "len(sensors_list)"
   ]
  },
  {
   "cell_type": "code",
   "execution_count": 290,
   "metadata": {},
   "outputs": [
    {
     "data": {
      "text/html": [
       "<div>\n",
       "<style scoped>\n",
       "    .dataframe tbody tr th:only-of-type {\n",
       "        vertical-align: middle;\n",
       "    }\n",
       "\n",
       "    .dataframe tbody tr th {\n",
       "        vertical-align: top;\n",
       "    }\n",
       "\n",
       "    .dataframe thead th {\n",
       "        text-align: right;\n",
       "    }\n",
       "</style>\n",
       "<table border=\"1\" class=\"dataframe\">\n",
       "  <thead>\n",
       "    <tr style=\"text-align: right;\">\n",
       "      <th></th>\n",
       "      <th>idsensore</th>\n",
       "      <th>data</th>\n",
       "      <th>valore</th>\n",
       "    </tr>\n",
       "  </thead>\n",
       "  <tbody>\n",
       "    <tr>\n",
       "      <th>43980</th>\n",
       "      <td>10377</td>\n",
       "      <td>2022-07-12</td>\n",
       "      <td>26.402083</td>\n",
       "    </tr>\n",
       "  </tbody>\n",
       "</table>\n",
       "</div>"
      ],
      "text/plain": [
       "       idsensore       data     valore\n",
       "43980      10377 2022-07-12  26.402083"
      ]
     },
     "execution_count": 290,
     "metadata": {},
     "output_type": "execute_result"
    }
   ],
   "source": [
    "sensor_selected = grouped.loc[(grouped['idsensore'] == 10377) & (grouped['data'] == test_date)]"
   ]
  },
  {
   "cell_type": "code",
   "execution_count": 291,
   "metadata": {},
   "outputs": [],
   "source": [
    "sensor_series = grouped.loc[grouped['idsensore'] == 10377]"
   ]
  },
  {
   "cell_type": "markdown",
   "metadata": {},
   "source": [
    "https://medium.com/nerd-for-tech/grouping-and-sampling-time-series-data-2bafe98302ab"
   ]
  },
  {
   "cell_type": "code",
   "execution_count": 252,
   "metadata": {},
   "outputs": [
    {
     "data": {
      "text/html": [
       "<div>\n",
       "<style scoped>\n",
       "    .dataframe tbody tr th:only-of-type {\n",
       "        vertical-align: middle;\n",
       "    }\n",
       "\n",
       "    .dataframe tbody tr th {\n",
       "        vertical-align: top;\n",
       "    }\n",
       "\n",
       "    .dataframe thead th {\n",
       "        text-align: right;\n",
       "    }\n",
       "</style>\n",
       "<table border=\"1\" class=\"dataframe\">\n",
       "  <thead>\n",
       "    <tr style=\"text-align: right;\">\n",
       "      <th></th>\n",
       "      <th>data</th>\n",
       "      <th>idsensore</th>\n",
       "      <th>valore</th>\n",
       "    </tr>\n",
       "  </thead>\n",
       "  <tbody>\n",
       "    <tr>\n",
       "      <th>1583</th>\n",
       "      <td>2022-07-12</td>\n",
       "      <td>10377</td>\n",
       "      <td>24.5</td>\n",
       "    </tr>\n",
       "  </tbody>\n",
       "</table>\n",
       "</div>"
      ],
      "text/plain": [
       "           data  idsensore  valore\n",
       "1583 2022-07-12      10377    24.5"
      ]
     },
     "execution_count": 252,
     "metadata": {},
     "output_type": "execute_result"
    }
   ],
   "source": [
    "df.loc[(df['idsensore']==10377) & (df['data'] == test_date)]"
   ]
  },
  {
   "cell_type": "code",
   "execution_count": 293,
   "metadata": {},
   "outputs": [
    {
     "data": {
      "text/html": [
       "<div>\n",
       "<style scoped>\n",
       "    .dataframe tbody tr th:only-of-type {\n",
       "        vertical-align: middle;\n",
       "    }\n",
       "\n",
       "    .dataframe tbody tr th {\n",
       "        vertical-align: top;\n",
       "    }\n",
       "\n",
       "    .dataframe thead th {\n",
       "        text-align: right;\n",
       "    }\n",
       "</style>\n",
       "<table border=\"1\" class=\"dataframe\">\n",
       "  <thead>\n",
       "    <tr style=\"text-align: right;\">\n",
       "      <th></th>\n",
       "      <th>idsensore</th>\n",
       "      <th>data</th>\n",
       "      <th>valore</th>\n",
       "    </tr>\n",
       "  </thead>\n",
       "  <tbody>\n",
       "    <tr>\n",
       "      <th>43788</th>\n",
       "      <td>10377</td>\n",
       "      <td>2022-01-01</td>\n",
       "      <td>8.345833</td>\n",
       "    </tr>\n",
       "    <tr>\n",
       "      <th>43789</th>\n",
       "      <td>10377</td>\n",
       "      <td>2022-01-02</td>\n",
       "      <td>6.138889</td>\n",
       "    </tr>\n",
       "    <tr>\n",
       "      <th>43790</th>\n",
       "      <td>10377</td>\n",
       "      <td>2022-01-03</td>\n",
       "      <td>5.993056</td>\n",
       "    </tr>\n",
       "    <tr>\n",
       "      <th>43791</th>\n",
       "      <td>10377</td>\n",
       "      <td>2022-01-04</td>\n",
       "      <td>6.744444</td>\n",
       "    </tr>\n",
       "    <tr>\n",
       "      <th>43792</th>\n",
       "      <td>10377</td>\n",
       "      <td>2022-01-05</td>\n",
       "      <td>6.989583</td>\n",
       "    </tr>\n",
       "    <tr>\n",
       "      <th>...</th>\n",
       "      <td>...</td>\n",
       "      <td>...</td>\n",
       "      <td>...</td>\n",
       "    </tr>\n",
       "    <tr>\n",
       "      <th>44139</th>\n",
       "      <td>10377</td>\n",
       "      <td>2022-12-18</td>\n",
       "      <td>NaN</td>\n",
       "    </tr>\n",
       "    <tr>\n",
       "      <th>44140</th>\n",
       "      <td>10377</td>\n",
       "      <td>2022-12-19</td>\n",
       "      <td>NaN</td>\n",
       "    </tr>\n",
       "    <tr>\n",
       "      <th>44141</th>\n",
       "      <td>10377</td>\n",
       "      <td>2022-12-20</td>\n",
       "      <td>NaN</td>\n",
       "    </tr>\n",
       "    <tr>\n",
       "      <th>44142</th>\n",
       "      <td>10377</td>\n",
       "      <td>2022-12-21</td>\n",
       "      <td>6.753211</td>\n",
       "    </tr>\n",
       "    <tr>\n",
       "      <th>44143</th>\n",
       "      <td>10377</td>\n",
       "      <td>2022-12-22</td>\n",
       "      <td>5.302899</td>\n",
       "    </tr>\n",
       "  </tbody>\n",
       "</table>\n",
       "<p>356 rows × 3 columns</p>\n",
       "</div>"
      ],
      "text/plain": [
       "       idsensore       data    valore\n",
       "43788      10377 2022-01-01  8.345833\n",
       "43789      10377 2022-01-02  6.138889\n",
       "43790      10377 2022-01-03  5.993056\n",
       "43791      10377 2022-01-04  6.744444\n",
       "43792      10377 2022-01-05  6.989583\n",
       "...          ...        ...       ...\n",
       "44139      10377 2022-12-18       NaN\n",
       "44140      10377 2022-12-19       NaN\n",
       "44141      10377 2022-12-20       NaN\n",
       "44142      10377 2022-12-21  6.753211\n",
       "44143      10377 2022-12-22  5.302899\n",
       "\n",
       "[356 rows x 3 columns]"
      ]
     },
     "execution_count": 293,
     "metadata": {},
     "output_type": "execute_result"
    }
   ],
   "source": [
    "sensor_series"
   ]
  },
  {
   "cell_type": "code",
   "execution_count": 294,
   "metadata": {},
   "outputs": [],
   "source": [
    "import matplotlib.pyplot as plt"
   ]
  },
  {
   "cell_type": "code",
   "execution_count": 298,
   "metadata": {},
   "outputs": [
    {
     "data": {
      "text/plain": [
       "[<matplotlib.lines.Line2D at 0x13387ee4e20>]"
      ]
     },
     "execution_count": 298,
     "metadata": {},
     "output_type": "execute_result"
    },
    {
     "data": {
      "image/png": "[encoded data removed]",
      "text/plain": [
       "<Figure size 640x480 with 1 Axes>"
      ]
     },
     "metadata": {},
     "output_type": "display_data"
    }
   ],
   "source": [
    "plt.plot(sensor_series['data'],sensor_series['valore'])"
   ]
  },
  {
   "cell_type": "code",
   "execution_count": null,
   "metadata": {},
   "outputs": [],
   "source": []
  }
 ],
 "metadata": {
  "colab": {
   "provenance": []
  },
  "kernelspec": {
   "display_name": "Python 3 (ipykernel)",
   "language": "python",
   "name": "python3"
  },
  "language_info": {
   "codemirror_mode": {
    "name": "ipython",
    "version": 3
   },
   "file_extension": ".py",
   "mimetype": "text/x-python",
   "name": "python",
   "nbconvert_exporter": "python",
   "pygments_lexer": "ipython3",
   "version": "3.8.15"
  },
  "vscode": {
   "interpreter": {
    "hash": "1a884f121133f7e48c0fb0d37d096822567e6dace2ca2327981e34c414aeb97b"
   }
  }
 },
 "nbformat": 4,
 "nbformat_minor": 4
}
